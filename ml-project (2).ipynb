{
 "cells": [
  {
   "cell_type": "code",
   "execution_count": 1,
   "id": "7ecfce71",
   "metadata": {
    "_cell_guid": "b1076dfc-b9ad-4769-8c92-a6c4dae69d19",
    "_uuid": "8f2839f25d086af736a60e9eeb907d3b93b6e0e5",
    "execution": {
     "iopub.execute_input": "2023-12-04T09:32:02.117073Z",
     "iopub.status.busy": "2023-12-04T09:32:02.116591Z",
     "iopub.status.idle": "2023-12-04T09:32:02.394829Z",
     "shell.execute_reply": "2023-12-04T09:32:02.393993Z"
    },
    "papermill": {
     "duration": 0.296024,
     "end_time": "2023-12-04T09:32:02.396728",
     "exception": false,
     "start_time": "2023-12-04T09:32:02.100704",
     "status": "completed"
    },
    "tags": []
   },
   "outputs": [
    {
     "name": "stdout",
     "output_type": "stream",
     "text": [
      "/kaggle/input/hr-analytics-job-change-of-data-scientists/sample_submission.csv\n",
      "/kaggle/input/hr-analytics-job-change-of-data-scientists/aug_test.csv\n",
      "/kaggle/input/hr-analytics-job-change-of-data-scientists/aug_train.csv\n"
     ]
    }
   ],
   "source": [
    "# This Python 3 environment comes with many helpful analytics libraries installed\n",
    "# It is defined by the kaggle/python Docker image: https://github.com/kaggle/docker-python\n",
    "# For example, here's several helpful packages to load\n",
    "\n",
    "import numpy as np # linear algebra\n",
    "import pandas as pd # data processing, CSV file I/O (e.g. pd.read_csv)\n",
    "\n",
    "# Input data files are available in the read-only \"../input/\" directory\n",
    "# For example, running this (by clicking run or pressing Shift+Enter) will list all files under the input directory\n",
    "\n",
    "import os\n",
    "for dirname, _, filenames in os.walk('/kaggle/input'):\n",
    "    for filename in filenames:\n",
    "        print(os.path.join(dirname, filename))\n",
    "\n",
    "# You can write up to 20GB to the current directory (/kaggle/working/) that gets preserved as output when you create a version using \"Save & Run All\" \n",
    "# You can also write temporary files to /kaggle/temp/, but they won't be saved outside of the current session\n",
    "\n",
    "\n"
   ]
  },
  {
   "cell_type": "markdown",
   "id": "5a96a67b",
   "metadata": {
    "papermill": {
     "duration": 0.013608,
     "end_time": "2023-12-04T09:32:02.425259",
     "exception": false,
     "start_time": "2023-12-04T09:32:02.411651",
     "status": "completed"
    },
    "tags": []
   },
   "source": [
    "# **IMPORTING LIBRARIES**"
   ]
  },
  {
   "cell_type": "code",
   "execution_count": 2,
   "id": "247f4d10",
   "metadata": {
    "execution": {
     "iopub.execute_input": "2023-12-04T09:32:02.454433Z",
     "iopub.status.busy": "2023-12-04T09:32:02.453994Z",
     "iopub.status.idle": "2023-12-04T09:32:03.622181Z",
     "shell.execute_reply": "2023-12-04T09:32:03.621498Z"
    },
    "papermill": {
     "duration": 1.185282,
     "end_time": "2023-12-04T09:32:03.624156",
     "exception": false,
     "start_time": "2023-12-04T09:32:02.438874",
     "status": "completed"
    },
    "tags": []
   },
   "outputs": [],
   "source": [
    "import pandas as pd\n",
    "import seaborn as sns\n",
    "import matplotlib.pyplot as plt\n",
    "import numpy as np\n",
    "from sklearn.preprocessing import OneHotEncoder \n",
    "import warnings\n",
    "warnings.filterwarnings('ignore')"
   ]
  },
  {
   "cell_type": "code",
   "execution_count": 3,
   "id": "ad07dd71",
   "metadata": {
    "execution": {
     "iopub.execute_input": "2023-12-04T09:32:03.653970Z",
     "iopub.status.busy": "2023-12-04T09:32:03.653458Z",
     "iopub.status.idle": "2023-12-04T09:32:03.808431Z",
     "shell.execute_reply": "2023-12-04T09:32:03.807582Z"
    },
    "papermill": {
     "duration": 0.172341,
     "end_time": "2023-12-04T09:32:03.810711",
     "exception": false,
     "start_time": "2023-12-04T09:32:03.638370",
     "status": "completed"
    },
    "tags": []
   },
   "outputs": [],
   "source": [
    "train=pd.read_csv(\"/kaggle/input/hr-analytics-job-change-of-data-scientists/aug_train.csv\")\n",
    "test=pd.read_csv(\"/kaggle/input/hr-analytics-job-change-of-data-scientists/aug_test.csv\")"
   ]
  },
  {
   "cell_type": "code",
   "execution_count": 4,
   "id": "fc112ef3",
   "metadata": {
    "execution": {
     "iopub.execute_input": "2023-12-04T09:32:03.840422Z",
     "iopub.status.busy": "2023-12-04T09:32:03.839726Z",
     "iopub.status.idle": "2023-12-04T09:32:03.865410Z",
     "shell.execute_reply": "2023-12-04T09:32:03.864553Z"
    },
    "papermill": {
     "duration": 0.042204,
     "end_time": "2023-12-04T09:32:03.867365",
     "exception": false,
     "start_time": "2023-12-04T09:32:03.825161",
     "status": "completed"
    },
    "tags": []
   },
   "outputs": [
    {
     "data": {
      "text/html": [
       "<div>\n",
       "<style scoped>\n",
       "    .dataframe tbody tr th:only-of-type {\n",
       "        vertical-align: middle;\n",
       "    }\n",
       "\n",
       "    .dataframe tbody tr th {\n",
       "        vertical-align: top;\n",
       "    }\n",
       "\n",
       "    .dataframe thead th {\n",
       "        text-align: right;\n",
       "    }\n",
       "</style>\n",
       "<table border=\"1\" class=\"dataframe\">\n",
       "  <thead>\n",
       "    <tr style=\"text-align: right;\">\n",
       "      <th></th>\n",
       "      <th>enrollee_id</th>\n",
       "      <th>city</th>\n",
       "      <th>city_development_index</th>\n",
       "      <th>gender</th>\n",
       "      <th>relevent_experience</th>\n",
       "      <th>enrolled_university</th>\n",
       "      <th>education_level</th>\n",
       "      <th>major_discipline</th>\n",
       "      <th>experience</th>\n",
       "      <th>company_size</th>\n",
       "      <th>company_type</th>\n",
       "      <th>last_new_job</th>\n",
       "      <th>training_hours</th>\n",
       "      <th>target</th>\n",
       "    </tr>\n",
       "  </thead>\n",
       "  <tbody>\n",
       "    <tr>\n",
       "      <th>0</th>\n",
       "      <td>8949</td>\n",
       "      <td>city_103</td>\n",
       "      <td>0.920</td>\n",
       "      <td>Male</td>\n",
       "      <td>Has relevent experience</td>\n",
       "      <td>no_enrollment</td>\n",
       "      <td>Graduate</td>\n",
       "      <td>STEM</td>\n",
       "      <td>&gt;20</td>\n",
       "      <td>NaN</td>\n",
       "      <td>NaN</td>\n",
       "      <td>1</td>\n",
       "      <td>36</td>\n",
       "      <td>1.0</td>\n",
       "    </tr>\n",
       "    <tr>\n",
       "      <th>1</th>\n",
       "      <td>29725</td>\n",
       "      <td>city_40</td>\n",
       "      <td>0.776</td>\n",
       "      <td>Male</td>\n",
       "      <td>No relevent experience</td>\n",
       "      <td>no_enrollment</td>\n",
       "      <td>Graduate</td>\n",
       "      <td>STEM</td>\n",
       "      <td>15</td>\n",
       "      <td>50-99</td>\n",
       "      <td>Pvt Ltd</td>\n",
       "      <td>&gt;4</td>\n",
       "      <td>47</td>\n",
       "      <td>0.0</td>\n",
       "    </tr>\n",
       "    <tr>\n",
       "      <th>2</th>\n",
       "      <td>11561</td>\n",
       "      <td>city_21</td>\n",
       "      <td>0.624</td>\n",
       "      <td>NaN</td>\n",
       "      <td>No relevent experience</td>\n",
       "      <td>Full time course</td>\n",
       "      <td>Graduate</td>\n",
       "      <td>STEM</td>\n",
       "      <td>5</td>\n",
       "      <td>NaN</td>\n",
       "      <td>NaN</td>\n",
       "      <td>never</td>\n",
       "      <td>83</td>\n",
       "      <td>0.0</td>\n",
       "    </tr>\n",
       "    <tr>\n",
       "      <th>3</th>\n",
       "      <td>33241</td>\n",
       "      <td>city_115</td>\n",
       "      <td>0.789</td>\n",
       "      <td>NaN</td>\n",
       "      <td>No relevent experience</td>\n",
       "      <td>NaN</td>\n",
       "      <td>Graduate</td>\n",
       "      <td>Business Degree</td>\n",
       "      <td>&lt;1</td>\n",
       "      <td>NaN</td>\n",
       "      <td>Pvt Ltd</td>\n",
       "      <td>never</td>\n",
       "      <td>52</td>\n",
       "      <td>1.0</td>\n",
       "    </tr>\n",
       "  </tbody>\n",
       "</table>\n",
       "</div>"
      ],
      "text/plain": [
       "   enrollee_id      city  city_development_index gender  \\\n",
       "0         8949  city_103                   0.920   Male   \n",
       "1        29725   city_40                   0.776   Male   \n",
       "2        11561   city_21                   0.624    NaN   \n",
       "3        33241  city_115                   0.789    NaN   \n",
       "\n",
       "       relevent_experience enrolled_university education_level  \\\n",
       "0  Has relevent experience       no_enrollment        Graduate   \n",
       "1   No relevent experience       no_enrollment        Graduate   \n",
       "2   No relevent experience    Full time course        Graduate   \n",
       "3   No relevent experience                 NaN        Graduate   \n",
       "\n",
       "  major_discipline experience company_size company_type last_new_job  \\\n",
       "0             STEM        >20          NaN          NaN            1   \n",
       "1             STEM         15        50-99      Pvt Ltd           >4   \n",
       "2             STEM          5          NaN          NaN        never   \n",
       "3  Business Degree         <1          NaN      Pvt Ltd        never   \n",
       "\n",
       "   training_hours  target  \n",
       "0              36     1.0  \n",
       "1              47     0.0  \n",
       "2              83     0.0  \n",
       "3              52     1.0  "
      ]
     },
     "execution_count": 4,
     "metadata": {},
     "output_type": "execute_result"
    }
   ],
   "source": [
    "train.head(4)"
   ]
  },
  {
   "cell_type": "code",
   "execution_count": 5,
   "id": "42a2d2f4",
   "metadata": {
    "execution": {
     "iopub.execute_input": "2023-12-04T09:32:03.897000Z",
     "iopub.status.busy": "2023-12-04T09:32:03.896276Z",
     "iopub.status.idle": "2023-12-04T09:32:03.909373Z",
     "shell.execute_reply": "2023-12-04T09:32:03.908563Z"
    },
    "papermill": {
     "duration": 0.029473,
     "end_time": "2023-12-04T09:32:03.911003",
     "exception": false,
     "start_time": "2023-12-04T09:32:03.881530",
     "status": "completed"
    },
    "tags": []
   },
   "outputs": [
    {
     "data": {
      "text/html": [
       "<div>\n",
       "<style scoped>\n",
       "    .dataframe tbody tr th:only-of-type {\n",
       "        vertical-align: middle;\n",
       "    }\n",
       "\n",
       "    .dataframe tbody tr th {\n",
       "        vertical-align: top;\n",
       "    }\n",
       "\n",
       "    .dataframe thead th {\n",
       "        text-align: right;\n",
       "    }\n",
       "</style>\n",
       "<table border=\"1\" class=\"dataframe\">\n",
       "  <thead>\n",
       "    <tr style=\"text-align: right;\">\n",
       "      <th></th>\n",
       "      <th>enrollee_id</th>\n",
       "      <th>city</th>\n",
       "      <th>city_development_index</th>\n",
       "      <th>gender</th>\n",
       "      <th>relevent_experience</th>\n",
       "      <th>enrolled_university</th>\n",
       "      <th>education_level</th>\n",
       "      <th>major_discipline</th>\n",
       "      <th>experience</th>\n",
       "      <th>company_size</th>\n",
       "      <th>company_type</th>\n",
       "      <th>last_new_job</th>\n",
       "      <th>training_hours</th>\n",
       "    </tr>\n",
       "  </thead>\n",
       "  <tbody>\n",
       "    <tr>\n",
       "      <th>0</th>\n",
       "      <td>32403</td>\n",
       "      <td>city_41</td>\n",
       "      <td>0.827</td>\n",
       "      <td>Male</td>\n",
       "      <td>Has relevent experience</td>\n",
       "      <td>Full time course</td>\n",
       "      <td>Graduate</td>\n",
       "      <td>STEM</td>\n",
       "      <td>9</td>\n",
       "      <td>&lt;10</td>\n",
       "      <td>NaN</td>\n",
       "      <td>1</td>\n",
       "      <td>21</td>\n",
       "    </tr>\n",
       "    <tr>\n",
       "      <th>1</th>\n",
       "      <td>9858</td>\n",
       "      <td>city_103</td>\n",
       "      <td>0.920</td>\n",
       "      <td>Female</td>\n",
       "      <td>Has relevent experience</td>\n",
       "      <td>no_enrollment</td>\n",
       "      <td>Graduate</td>\n",
       "      <td>STEM</td>\n",
       "      <td>5</td>\n",
       "      <td>NaN</td>\n",
       "      <td>Pvt Ltd</td>\n",
       "      <td>1</td>\n",
       "      <td>98</td>\n",
       "    </tr>\n",
       "    <tr>\n",
       "      <th>2</th>\n",
       "      <td>31806</td>\n",
       "      <td>city_21</td>\n",
       "      <td>0.624</td>\n",
       "      <td>Male</td>\n",
       "      <td>No relevent experience</td>\n",
       "      <td>no_enrollment</td>\n",
       "      <td>High School</td>\n",
       "      <td>NaN</td>\n",
       "      <td>&lt;1</td>\n",
       "      <td>NaN</td>\n",
       "      <td>Pvt Ltd</td>\n",
       "      <td>never</td>\n",
       "      <td>15</td>\n",
       "    </tr>\n",
       "    <tr>\n",
       "      <th>3</th>\n",
       "      <td>27385</td>\n",
       "      <td>city_13</td>\n",
       "      <td>0.827</td>\n",
       "      <td>Male</td>\n",
       "      <td>Has relevent experience</td>\n",
       "      <td>no_enrollment</td>\n",
       "      <td>Masters</td>\n",
       "      <td>STEM</td>\n",
       "      <td>11</td>\n",
       "      <td>10/49</td>\n",
       "      <td>Pvt Ltd</td>\n",
       "      <td>1</td>\n",
       "      <td>39</td>\n",
       "    </tr>\n",
       "  </tbody>\n",
       "</table>\n",
       "</div>"
      ],
      "text/plain": [
       "   enrollee_id      city  city_development_index  gender  \\\n",
       "0        32403   city_41                   0.827    Male   \n",
       "1         9858  city_103                   0.920  Female   \n",
       "2        31806   city_21                   0.624    Male   \n",
       "3        27385   city_13                   0.827    Male   \n",
       "\n",
       "       relevent_experience enrolled_university education_level  \\\n",
       "0  Has relevent experience    Full time course        Graduate   \n",
       "1  Has relevent experience       no_enrollment        Graduate   \n",
       "2   No relevent experience       no_enrollment     High School   \n",
       "3  Has relevent experience       no_enrollment         Masters   \n",
       "\n",
       "  major_discipline experience company_size company_type last_new_job  \\\n",
       "0             STEM          9          <10          NaN            1   \n",
       "1             STEM          5          NaN      Pvt Ltd            1   \n",
       "2              NaN         <1          NaN      Pvt Ltd        never   \n",
       "3             STEM         11        10/49      Pvt Ltd            1   \n",
       "\n",
       "   training_hours  \n",
       "0              21  \n",
       "1              98  \n",
       "2              15  \n",
       "3              39  "
      ]
     },
     "execution_count": 5,
     "metadata": {},
     "output_type": "execute_result"
    }
   ],
   "source": [
    "test.head(4)"
   ]
  },
  {
   "cell_type": "code",
   "execution_count": 6,
   "id": "4fe122ca",
   "metadata": {
    "execution": {
     "iopub.execute_input": "2023-12-04T09:32:03.940900Z",
     "iopub.status.busy": "2023-12-04T09:32:03.940604Z",
     "iopub.status.idle": "2023-12-04T09:32:03.945874Z",
     "shell.execute_reply": "2023-12-04T09:32:03.944983Z"
    },
    "papermill": {
     "duration": 0.022377,
     "end_time": "2023-12-04T09:32:03.947631",
     "exception": false,
     "start_time": "2023-12-04T09:32:03.925254",
     "status": "completed"
    },
    "tags": []
   },
   "outputs": [
    {
     "data": {
      "text/plain": [
       "(19158, 14)"
      ]
     },
     "execution_count": 6,
     "metadata": {},
     "output_type": "execute_result"
    }
   ],
   "source": [
    "# checking shape of the train data\n",
    "\n",
    "train.shape"
   ]
  },
  {
   "cell_type": "code",
   "execution_count": 7,
   "id": "dc91ec8c",
   "metadata": {
    "execution": {
     "iopub.execute_input": "2023-12-04T09:32:03.976773Z",
     "iopub.status.busy": "2023-12-04T09:32:03.976507Z",
     "iopub.status.idle": "2023-12-04T09:32:03.982113Z",
     "shell.execute_reply": "2023-12-04T09:32:03.981256Z"
    },
    "papermill": {
     "duration": 0.022229,
     "end_time": "2023-12-04T09:32:03.983842",
     "exception": false,
     "start_time": "2023-12-04T09:32:03.961613",
     "status": "completed"
    },
    "tags": []
   },
   "outputs": [
    {
     "data": {
      "text/plain": [
       "(2129, 13)"
      ]
     },
     "execution_count": 7,
     "metadata": {},
     "output_type": "execute_result"
    }
   ],
   "source": [
    "# checking shape of the test data\n",
    "\n",
    "test.shape"
   ]
  },
  {
   "cell_type": "code",
   "execution_count": 8,
   "id": "86d392fa",
   "metadata": {
    "execution": {
     "iopub.execute_input": "2023-12-04T09:32:04.056810Z",
     "iopub.status.busy": "2023-12-04T09:32:04.056500Z",
     "iopub.status.idle": "2023-12-04T09:32:04.079539Z",
     "shell.execute_reply": "2023-12-04T09:32:04.078670Z"
    },
    "papermill": {
     "duration": 0.082941,
     "end_time": "2023-12-04T09:32:04.081268",
     "exception": false,
     "start_time": "2023-12-04T09:32:03.998327",
     "status": "completed"
    },
    "tags": []
   },
   "outputs": [
    {
     "data": {
      "text/html": [
       "<div>\n",
       "<style scoped>\n",
       "    .dataframe tbody tr th:only-of-type {\n",
       "        vertical-align: middle;\n",
       "    }\n",
       "\n",
       "    .dataframe tbody tr th {\n",
       "        vertical-align: top;\n",
       "    }\n",
       "\n",
       "    .dataframe thead th {\n",
       "        text-align: right;\n",
       "    }\n",
       "</style>\n",
       "<table border=\"1\" class=\"dataframe\">\n",
       "  <thead>\n",
       "    <tr style=\"text-align: right;\">\n",
       "      <th></th>\n",
       "      <th>enrollee_id</th>\n",
       "      <th>city_development_index</th>\n",
       "      <th>training_hours</th>\n",
       "      <th>target</th>\n",
       "    </tr>\n",
       "  </thead>\n",
       "  <tbody>\n",
       "    <tr>\n",
       "      <th>count</th>\n",
       "      <td>19158.000000</td>\n",
       "      <td>19158.000000</td>\n",
       "      <td>19158.000000</td>\n",
       "      <td>19158.000000</td>\n",
       "    </tr>\n",
       "    <tr>\n",
       "      <th>mean</th>\n",
       "      <td>16875.358179</td>\n",
       "      <td>0.828848</td>\n",
       "      <td>65.366896</td>\n",
       "      <td>0.249348</td>\n",
       "    </tr>\n",
       "    <tr>\n",
       "      <th>std</th>\n",
       "      <td>9616.292592</td>\n",
       "      <td>0.123362</td>\n",
       "      <td>60.058462</td>\n",
       "      <td>0.432647</td>\n",
       "    </tr>\n",
       "    <tr>\n",
       "      <th>min</th>\n",
       "      <td>1.000000</td>\n",
       "      <td>0.448000</td>\n",
       "      <td>1.000000</td>\n",
       "      <td>0.000000</td>\n",
       "    </tr>\n",
       "    <tr>\n",
       "      <th>25%</th>\n",
       "      <td>8554.250000</td>\n",
       "      <td>0.740000</td>\n",
       "      <td>23.000000</td>\n",
       "      <td>0.000000</td>\n",
       "    </tr>\n",
       "    <tr>\n",
       "      <th>50%</th>\n",
       "      <td>16982.500000</td>\n",
       "      <td>0.903000</td>\n",
       "      <td>47.000000</td>\n",
       "      <td>0.000000</td>\n",
       "    </tr>\n",
       "    <tr>\n",
       "      <th>75%</th>\n",
       "      <td>25169.750000</td>\n",
       "      <td>0.920000</td>\n",
       "      <td>88.000000</td>\n",
       "      <td>0.000000</td>\n",
       "    </tr>\n",
       "    <tr>\n",
       "      <th>max</th>\n",
       "      <td>33380.000000</td>\n",
       "      <td>0.949000</td>\n",
       "      <td>336.000000</td>\n",
       "      <td>1.000000</td>\n",
       "    </tr>\n",
       "  </tbody>\n",
       "</table>\n",
       "</div>"
      ],
      "text/plain": [
       "        enrollee_id  city_development_index  training_hours        target\n",
       "count  19158.000000            19158.000000    19158.000000  19158.000000\n",
       "mean   16875.358179                0.828848       65.366896      0.249348\n",
       "std     9616.292592                0.123362       60.058462      0.432647\n",
       "min        1.000000                0.448000        1.000000      0.000000\n",
       "25%     8554.250000                0.740000       23.000000      0.000000\n",
       "50%    16982.500000                0.903000       47.000000      0.000000\n",
       "75%    25169.750000                0.920000       88.000000      0.000000\n",
       "max    33380.000000                0.949000      336.000000      1.000000"
      ]
     },
     "execution_count": 8,
     "metadata": {},
     "output_type": "execute_result"
    }
   ],
   "source": [
    "# basic descriptive statistics view for train data\n",
    "\n",
    "train.describe()"
   ]
  },
  {
   "cell_type": "code",
   "execution_count": 9,
   "id": "cb565502",
   "metadata": {
    "execution": {
     "iopub.execute_input": "2023-12-04T09:32:04.112865Z",
     "iopub.status.busy": "2023-12-04T09:32:04.112511Z",
     "iopub.status.idle": "2023-12-04T09:32:04.128140Z",
     "shell.execute_reply": "2023-12-04T09:32:04.127280Z"
    },
    "papermill": {
     "duration": 0.033528,
     "end_time": "2023-12-04T09:32:04.130062",
     "exception": false,
     "start_time": "2023-12-04T09:32:04.096534",
     "status": "completed"
    },
    "tags": []
   },
   "outputs": [
    {
     "data": {
      "text/html": [
       "<div>\n",
       "<style scoped>\n",
       "    .dataframe tbody tr th:only-of-type {\n",
       "        vertical-align: middle;\n",
       "    }\n",
       "\n",
       "    .dataframe tbody tr th {\n",
       "        vertical-align: top;\n",
       "    }\n",
       "\n",
       "    .dataframe thead th {\n",
       "        text-align: right;\n",
       "    }\n",
       "</style>\n",
       "<table border=\"1\" class=\"dataframe\">\n",
       "  <thead>\n",
       "    <tr style=\"text-align: right;\">\n",
       "      <th></th>\n",
       "      <th>enrollee_id</th>\n",
       "      <th>city_development_index</th>\n",
       "      <th>training_hours</th>\n",
       "    </tr>\n",
       "  </thead>\n",
       "  <tbody>\n",
       "    <tr>\n",
       "      <th>count</th>\n",
       "      <td>2129.000000</td>\n",
       "      <td>2129.000000</td>\n",
       "      <td>2129.000000</td>\n",
       "    </tr>\n",
       "    <tr>\n",
       "      <th>mean</th>\n",
       "      <td>16861.614843</td>\n",
       "      <td>0.824984</td>\n",
       "      <td>64.983091</td>\n",
       "    </tr>\n",
       "    <tr>\n",
       "      <th>std</th>\n",
       "      <td>9576.846029</td>\n",
       "      <td>0.125074</td>\n",
       "      <td>60.238660</td>\n",
       "    </tr>\n",
       "    <tr>\n",
       "      <th>min</th>\n",
       "      <td>3.000000</td>\n",
       "      <td>0.448000</td>\n",
       "      <td>1.000000</td>\n",
       "    </tr>\n",
       "    <tr>\n",
       "      <th>25%</th>\n",
       "      <td>8562.000000</td>\n",
       "      <td>0.698000</td>\n",
       "      <td>23.000000</td>\n",
       "    </tr>\n",
       "    <tr>\n",
       "      <th>50%</th>\n",
       "      <td>16816.000000</td>\n",
       "      <td>0.903000</td>\n",
       "      <td>47.000000</td>\n",
       "    </tr>\n",
       "    <tr>\n",
       "      <th>75%</th>\n",
       "      <td>25129.000000</td>\n",
       "      <td>0.920000</td>\n",
       "      <td>86.000000</td>\n",
       "    </tr>\n",
       "    <tr>\n",
       "      <th>max</th>\n",
       "      <td>33353.000000</td>\n",
       "      <td>0.949000</td>\n",
       "      <td>334.000000</td>\n",
       "    </tr>\n",
       "  </tbody>\n",
       "</table>\n",
       "</div>"
      ],
      "text/plain": [
       "        enrollee_id  city_development_index  training_hours\n",
       "count   2129.000000             2129.000000     2129.000000\n",
       "mean   16861.614843                0.824984       64.983091\n",
       "std     9576.846029                0.125074       60.238660\n",
       "min        3.000000                0.448000        1.000000\n",
       "25%     8562.000000                0.698000       23.000000\n",
       "50%    16816.000000                0.903000       47.000000\n",
       "75%    25129.000000                0.920000       86.000000\n",
       "max    33353.000000                0.949000      334.000000"
      ]
     },
     "execution_count": 9,
     "metadata": {},
     "output_type": "execute_result"
    }
   ],
   "source": [
    "# basic descriptive statistics view for test data\n",
    "\n",
    "test.describe()"
   ]
  },
  {
   "cell_type": "code",
   "execution_count": 10,
   "id": "ce54a3c6",
   "metadata": {
    "execution": {
     "iopub.execute_input": "2023-12-04T09:32:04.162700Z",
     "iopub.status.busy": "2023-12-04T09:32:04.162087Z",
     "iopub.status.idle": "2023-12-04T09:32:04.174333Z",
     "shell.execute_reply": "2023-12-04T09:32:04.173591Z"
    },
    "papermill": {
     "duration": 0.029989,
     "end_time": "2023-12-04T09:32:04.175931",
     "exception": false,
     "start_time": "2023-12-04T09:32:04.145942",
     "status": "completed"
    },
    "tags": []
   },
   "outputs": [
    {
     "data": {
      "text/plain": [
       "enrollee_id                  0\n",
       "city                         0\n",
       "city_development_index       0\n",
       "gender                    4508\n",
       "relevent_experience          0\n",
       "enrolled_university        386\n",
       "education_level            460\n",
       "major_discipline          2813\n",
       "experience                  65\n",
       "company_size              5938\n",
       "company_type              6140\n",
       "last_new_job               423\n",
       "training_hours               0\n",
       "target                       0\n",
       "dtype: int64"
      ]
     },
     "execution_count": 10,
     "metadata": {},
     "output_type": "execute_result"
    }
   ],
   "source": [
    "# missing values in train data\n",
    "\n",
    "train.isnull().sum()"
   ]
  },
  {
   "cell_type": "code",
   "execution_count": 11,
   "id": "14060076",
   "metadata": {
    "execution": {
     "iopub.execute_input": "2023-12-04T09:32:04.208534Z",
     "iopub.status.busy": "2023-12-04T09:32:04.207997Z",
     "iopub.status.idle": "2023-12-04T09:32:04.236110Z",
     "shell.execute_reply": "2023-12-04T09:32:04.234913Z"
    },
    "papermill": {
     "duration": 0.046844,
     "end_time": "2023-12-04T09:32:04.238299",
     "exception": false,
     "start_time": "2023-12-04T09:32:04.191455",
     "status": "completed"
    },
    "tags": []
   },
   "outputs": [
    {
     "name": "stdout",
     "output_type": "stream",
     "text": [
      "<class 'pandas.core.frame.DataFrame'>\n",
      "RangeIndex: 19158 entries, 0 to 19157\n",
      "Data columns (total 14 columns):\n",
      " #   Column                  Non-Null Count  Dtype  \n",
      "---  ------                  --------------  -----  \n",
      " 0   enrollee_id             19158 non-null  int64  \n",
      " 1   city                    19158 non-null  object \n",
      " 2   city_development_index  19158 non-null  float64\n",
      " 3   gender                  14650 non-null  object \n",
      " 4   relevent_experience     19158 non-null  object \n",
      " 5   enrolled_university     18772 non-null  object \n",
      " 6   education_level         18698 non-null  object \n",
      " 7   major_discipline        16345 non-null  object \n",
      " 8   experience              19093 non-null  object \n",
      " 9   company_size            13220 non-null  object \n",
      " 10  company_type            13018 non-null  object \n",
      " 11  last_new_job            18735 non-null  object \n",
      " 12  training_hours          19158 non-null  int64  \n",
      " 13  target                  19158 non-null  float64\n",
      "dtypes: float64(2), int64(2), object(10)\n",
      "memory usage: 2.0+ MB\n"
     ]
    }
   ],
   "source": [
    "train.info()"
   ]
  },
  {
   "cell_type": "markdown",
   "id": "2f2715ec",
   "metadata": {
    "papermill": {
     "duration": 0.014664,
     "end_time": "2023-12-04T09:32:04.268393",
     "exception": false,
     "start_time": "2023-12-04T09:32:04.253729",
     "status": "completed"
    },
    "tags": []
   },
   "source": [
    "# **DATA EXPLORATION**"
   ]
  },
  {
   "cell_type": "code",
   "execution_count": 12,
   "id": "614f483a",
   "metadata": {
    "execution": {
     "iopub.execute_input": "2023-12-04T09:32:04.299508Z",
     "iopub.status.busy": "2023-12-04T09:32:04.299124Z",
     "iopub.status.idle": "2023-12-04T09:32:04.306540Z",
     "shell.execute_reply": "2023-12-04T09:32:04.305880Z"
    },
    "papermill": {
     "duration": 0.024863,
     "end_time": "2023-12-04T09:32:04.308044",
     "exception": false,
     "start_time": "2023-12-04T09:32:04.283181",
     "status": "completed"
    },
    "tags": []
   },
   "outputs": [
    {
     "data": {
      "text/plain": [
       "target\n",
       "0.0    14381\n",
       "1.0     4777\n",
       "Name: count, dtype: int64"
      ]
     },
     "execution_count": 12,
     "metadata": {},
     "output_type": "execute_result"
    }
   ],
   "source": [
    "# target: 0 – Not looking for job change, 1 – Looking for a job change\n",
    "\n",
    "train[\"target\"].value_counts()"
   ]
  },
  {
   "cell_type": "markdown",
   "id": "c922ebf4",
   "metadata": {
    "papermill": {
     "duration": 0.014606,
     "end_time": "2023-12-04T09:32:04.338183",
     "exception": false,
     "start_time": "2023-12-04T09:32:04.323577",
     "status": "completed"
    },
    "tags": []
   },
   "source": [
    "The data is imbalanced. most of the candidates/employee wants to work with the company ."
   ]
  },
  {
   "cell_type": "code",
   "execution_count": 13,
   "id": "c57420cc",
   "metadata": {
    "execution": {
     "iopub.execute_input": "2023-12-04T09:32:04.370438Z",
     "iopub.status.busy": "2023-12-04T09:32:04.369582Z",
     "iopub.status.idle": "2023-12-04T09:32:04.545757Z",
     "shell.execute_reply": "2023-12-04T09:32:04.545136Z"
    },
    "papermill": {
     "duration": 0.194288,
     "end_time": "2023-12-04T09:32:04.547322",
     "exception": false,
     "start_time": "2023-12-04T09:32:04.353034",
     "status": "completed"
    },
    "tags": []
   },
   "outputs": [
    {
     "data": {
      "text/plain": [
       "<Axes: xlabel='target', ylabel='count'>"
      ]
     },
     "execution_count": 13,
     "metadata": {},
     "output_type": "execute_result"
    },
    {
     "data": {
      "image/png": "[encoded data removed]",
      "text/plain": [
       "<Figure size 640x480 with 1 Axes>"
      ]
     },
     "metadata": {},
     "output_type": "display_data"
    }
   ],
   "source": [
    "sns.countplot(x=\"target\",data=train)"
   ]
  },
  {
   "cell_type": "code",
   "execution_count": 14,
   "id": "410a7826",
   "metadata": {
    "execution": {
     "iopub.execute_input": "2023-12-04T09:32:04.579890Z",
     "iopub.status.busy": "2023-12-04T09:32:04.578860Z",
     "iopub.status.idle": "2023-12-04T09:32:04.585791Z",
     "shell.execute_reply": "2023-12-04T09:32:04.585257Z"
    },
    "papermill": {
     "duration": 0.024163,
     "end_time": "2023-12-04T09:32:04.587179",
     "exception": false,
     "start_time": "2023-12-04T09:32:04.563016",
     "status": "completed"
    },
    "tags": []
   },
   "outputs": [
    {
     "data": {
      "text/plain": [
       "education_level\n",
       "Graduate          11598\n",
       "Masters            4361\n",
       "High School        2017\n",
       "Phd                 414\n",
       "Primary School      308\n",
       "Name: count, dtype: int64"
      ]
     },
     "execution_count": 14,
     "metadata": {},
     "output_type": "execute_result"
    }
   ],
   "source": [
    "train[\"education_level\"].value_counts()"
   ]
  },
  {
   "cell_type": "code",
   "execution_count": 15,
   "id": "dcda345e",
   "metadata": {
    "execution": {
     "iopub.execute_input": "2023-12-04T09:32:04.619004Z",
     "iopub.status.busy": "2023-12-04T09:32:04.618200Z",
     "iopub.status.idle": "2023-12-04T09:32:04.848167Z",
     "shell.execute_reply": "2023-12-04T09:32:04.847000Z"
    },
    "papermill": {
     "duration": 0.248135,
     "end_time": "2023-12-04T09:32:04.850383",
     "exception": false,
     "start_time": "2023-12-04T09:32:04.602248",
     "status": "completed"
    },
    "tags": []
   },
   "outputs": [
    {
     "data": {
      "text/plain": [
       "<Axes: xlabel='education_level', ylabel='count'>"
      ]
     },
     "execution_count": 15,
     "metadata": {},
     "output_type": "execute_result"
    },
    {
     "data": {
      "image/png": "[encoded data removed]",
      "text/plain": [
       "<Figure size 640x480 with 1 Axes>"
      ]
     },
     "metadata": {},
     "output_type": "display_data"
    }
   ],
   "source": [
    "sns.countplot(x=\"education_level\", data=train , hue=\"target\")\n",
    "# 'hue' is used to visualize the data of different categories in one plot."
   ]
  },
  {
   "cell_type": "code",
   "execution_count": 16,
   "id": "442dc1e4",
   "metadata": {
    "execution": {
     "iopub.execute_input": "2023-12-04T09:32:04.886139Z",
     "iopub.status.busy": "2023-12-04T09:32:04.885143Z",
     "iopub.status.idle": "2023-12-04T09:32:05.079175Z",
     "shell.execute_reply": "2023-12-04T09:32:05.078528Z"
    },
    "papermill": {
     "duration": 0.212363,
     "end_time": "2023-12-04T09:32:05.080839",
     "exception": false,
     "start_time": "2023-12-04T09:32:04.868476",
     "status": "completed"
    },
    "tags": []
   },
   "outputs": [
    {
     "data": {
      "text/plain": [
       "<Axes: xlabel='gender', ylabel='count'>"
      ]
     },
     "execution_count": 16,
     "metadata": {},
     "output_type": "execute_result"
    },
    {
     "data": {
      "image/png": "[encoded data removed]",
      "text/plain": [
       "<Figure size 640x480 with 1 Axes>"
      ]
     },
     "metadata": {},
     "output_type": "display_data"
    }
   ],
   "source": [
    "sns.countplot(x=\"gender\" , data=train , hue=\"target\")"
   ]
  },
  {
   "cell_type": "code",
   "execution_count": 17,
   "id": "25d0d39d",
   "metadata": {
    "execution": {
     "iopub.execute_input": "2023-12-04T09:32:05.115536Z",
     "iopub.status.busy": "2023-12-04T09:32:05.115030Z",
     "iopub.status.idle": "2023-12-04T09:32:05.122061Z",
     "shell.execute_reply": "2023-12-04T09:32:05.121273Z"
    },
    "papermill": {
     "duration": 0.026372,
     "end_time": "2023-12-04T09:32:05.123635",
     "exception": false,
     "start_time": "2023-12-04T09:32:05.097263",
     "status": "completed"
    },
    "tags": []
   },
   "outputs": [
    {
     "data": {
      "text/plain": [
       "relevent_experience\n",
       "Has relevent experience    13792\n",
       "No relevent experience      5366\n",
       "Name: count, dtype: int64"
      ]
     },
     "execution_count": 17,
     "metadata": {},
     "output_type": "execute_result"
    }
   ],
   "source": [
    "train[\"relevent_experience\"].value_counts()"
   ]
  },
  {
   "cell_type": "code",
   "execution_count": 18,
   "id": "92b0f403",
   "metadata": {
    "execution": {
     "iopub.execute_input": "2023-12-04T09:32:05.156917Z",
     "iopub.status.busy": "2023-12-04T09:32:05.156588Z",
     "iopub.status.idle": "2023-12-04T09:32:05.313581Z",
     "shell.execute_reply": "2023-12-04T09:32:05.312908Z"
    },
    "papermill": {
     "duration": 0.175706,
     "end_time": "2023-12-04T09:32:05.315328",
     "exception": false,
     "start_time": "2023-12-04T09:32:05.139622",
     "status": "completed"
    },
    "tags": []
   },
   "outputs": [
    {
     "data": {
      "text/plain": [
       "<Axes: xlabel='relevent_experience', ylabel='count'>"
      ]
     },
     "execution_count": 18,
     "metadata": {},
     "output_type": "execute_result"
    },
    {
     "data": {
      "image/png": "[encoded data removed]",
      "text/plain": [
       "<Figure size 640x480 with 1 Axes>"
      ]
     },
     "metadata": {},
     "output_type": "display_data"
    }
   ],
   "source": [
    "sns.countplot(x=\"relevent_experience\", data=train )"
   ]
  },
  {
   "cell_type": "code",
   "execution_count": 19,
   "id": "6cfd1c45",
   "metadata": {
    "execution": {
     "iopub.execute_input": "2023-12-04T09:32:05.351429Z",
     "iopub.status.busy": "2023-12-04T09:32:05.351001Z",
     "iopub.status.idle": "2023-12-04T09:32:05.552556Z",
     "shell.execute_reply": "2023-12-04T09:32:05.550926Z"
    },
    "papermill": {
     "duration": 0.222164,
     "end_time": "2023-12-04T09:32:05.555034",
     "exception": false,
     "start_time": "2023-12-04T09:32:05.332870",
     "status": "completed"
    },
    "tags": []
   },
   "outputs": [
    {
     "data": {
      "text/plain": [
       "<Axes: xlabel='relevent_experience', ylabel='count'>"
      ]
     },
     "execution_count": 19,
     "metadata": {},
     "output_type": "execute_result"
    },
    {
     "data": {
      "image/png": "[encoded data removed]",
      "text/plain": [
       "<Figure size 640x480 with 1 Axes>"
      ]
     },
     "metadata": {},
     "output_type": "display_data"
    }
   ],
   "source": [
    "sns.countplot(x=\"relevent_experience\", data=train , hue=\"target\")"
   ]
  },
  {
   "cell_type": "code",
   "execution_count": 20,
   "id": "2d34acee",
   "metadata": {
    "execution": {
     "iopub.execute_input": "2023-12-04T09:32:05.593019Z",
     "iopub.status.busy": "2023-12-04T09:32:05.592679Z",
     "iopub.status.idle": "2023-12-04T09:32:05.600660Z",
     "shell.execute_reply": "2023-12-04T09:32:05.599729Z"
    },
    "papermill": {
     "duration": 0.030799,
     "end_time": "2023-12-04T09:32:05.603543",
     "exception": false,
     "start_time": "2023-12-04T09:32:05.572744",
     "status": "completed"
    },
    "tags": []
   },
   "outputs": [
    {
     "data": {
      "text/plain": [
       "enrolled_university\n",
       "no_enrollment       13817\n",
       "Full time course     3757\n",
       "Part time course     1198\n",
       "Name: count, dtype: int64"
      ]
     },
     "execution_count": 20,
     "metadata": {},
     "output_type": "execute_result"
    }
   ],
   "source": [
    "train[\"enrolled_university\"].value_counts()"
   ]
  },
  {
   "cell_type": "code",
   "execution_count": 21,
   "id": "abe5eb49",
   "metadata": {
    "execution": {
     "iopub.execute_input": "2023-12-04T09:32:05.644196Z",
     "iopub.status.busy": "2023-12-04T09:32:05.643403Z",
     "iopub.status.idle": "2023-12-04T09:32:05.816153Z",
     "shell.execute_reply": "2023-12-04T09:32:05.814993Z"
    },
    "papermill": {
     "duration": 0.196663,
     "end_time": "2023-12-04T09:32:05.818155",
     "exception": false,
     "start_time": "2023-12-04T09:32:05.621492",
     "status": "completed"
    },
    "tags": []
   },
   "outputs": [
    {
     "data": {
      "text/plain": [
       "<Axes: xlabel='enrolled_university', ylabel='count'>"
      ]
     },
     "execution_count": 21,
     "metadata": {},
     "output_type": "execute_result"
    },
    {
     "data": {
      "image/png": "[encoded data removed]",
      "text/plain": [
       "<Figure size 640x480 with 1 Axes>"
      ]
     },
     "metadata": {},
     "output_type": "display_data"
    }
   ],
   "source": [
    "sns.countplot(x=\"enrolled_university\", data=train )"
   ]
  },
  {
   "cell_type": "code",
   "execution_count": 22,
   "id": "425b8873",
   "metadata": {
    "execution": {
     "iopub.execute_input": "2023-12-04T09:32:05.866362Z",
     "iopub.status.busy": "2023-12-04T09:32:05.865732Z",
     "iopub.status.idle": "2023-12-04T09:32:06.061674Z",
     "shell.execute_reply": "2023-12-04T09:32:06.060848Z"
    },
    "papermill": {
     "duration": 0.218471,
     "end_time": "2023-12-04T09:32:06.063454",
     "exception": false,
     "start_time": "2023-12-04T09:32:05.844983",
     "status": "completed"
    },
    "tags": []
   },
   "outputs": [
    {
     "data": {
      "text/plain": [
       "<Axes: xlabel='enrolled_university', ylabel='count'>"
      ]
     },
     "execution_count": 22,
     "metadata": {},
     "output_type": "execute_result"
    },
    {
     "data": {
      "image/png": "[encoded data removed]",
      "text/plain": [
       "<Figure size 640x480 with 1 Axes>"
      ]
     },
     "metadata": {},
     "output_type": "display_data"
    }
   ],
   "source": [
    "sns.countplot(x=\"enrolled_university\" , data=train , hue=\"target\")"
   ]
  },
  {
   "cell_type": "code",
   "execution_count": 23,
   "id": "011af8cd",
   "metadata": {
    "execution": {
     "iopub.execute_input": "2023-12-04T09:32:06.100654Z",
     "iopub.status.busy": "2023-12-04T09:32:06.100070Z",
     "iopub.status.idle": "2023-12-04T09:32:06.107147Z",
     "shell.execute_reply": "2023-12-04T09:32:06.106528Z"
    },
    "papermill": {
     "duration": 0.027226,
     "end_time": "2023-12-04T09:32:06.108818",
     "exception": false,
     "start_time": "2023-12-04T09:32:06.081592",
     "status": "completed"
    },
    "tags": []
   },
   "outputs": [
    {
     "data": {
      "text/plain": [
       "major_discipline\n",
       "STEM               14492\n",
       "Humanities           669\n",
       "Other                381\n",
       "Business Degree      327\n",
       "Arts                 253\n",
       "No Major             223\n",
       "Name: count, dtype: int64"
      ]
     },
     "execution_count": 23,
     "metadata": {},
     "output_type": "execute_result"
    }
   ],
   "source": [
    "train[\"major_discipline\"].value_counts()\n",
    "    "
   ]
  },
  {
   "cell_type": "code",
   "execution_count": 24,
   "id": "c030f59c",
   "metadata": {
    "execution": {
     "iopub.execute_input": "2023-12-04T09:32:06.146322Z",
     "iopub.status.busy": "2023-12-04T09:32:06.145596Z",
     "iopub.status.idle": "2023-12-04T09:32:06.368314Z",
     "shell.execute_reply": "2023-12-04T09:32:06.367462Z"
    },
    "papermill": {
     "duration": 0.243314,
     "end_time": "2023-12-04T09:32:06.369966",
     "exception": false,
     "start_time": "2023-12-04T09:32:06.126652",
     "status": "completed"
    },
    "tags": []
   },
   "outputs": [
    {
     "data": {
      "text/plain": [
       "<Axes: xlabel='major_discipline', ylabel='count'>"
      ]
     },
     "execution_count": 24,
     "metadata": {},
     "output_type": "execute_result"
    },
    {
     "data": {
      "image/png": "[encoded data removed]",
      "text/plain": [
       "<Figure size 640x480 with 1 Axes>"
      ]
     },
     "metadata": {},
     "output_type": "display_data"
    }
   ],
   "source": [
    "sns.countplot(x=\"major_discipline\" , data=train , hue=\"target\")"
   ]
  },
  {
   "cell_type": "code",
   "execution_count": 25,
   "id": "7378818f",
   "metadata": {
    "execution": {
     "iopub.execute_input": "2023-12-04T09:32:06.408776Z",
     "iopub.status.busy": "2023-12-04T09:32:06.408187Z",
     "iopub.status.idle": "2023-12-04T09:32:06.770468Z",
     "shell.execute_reply": "2023-12-04T09:32:06.769315Z"
    },
    "papermill": {
     "duration": 0.383656,
     "end_time": "2023-12-04T09:32:06.772461",
     "exception": false,
     "start_time": "2023-12-04T09:32:06.388805",
     "status": "completed"
    },
    "tags": []
   },
   "outputs": [
    {
     "data": {
      "text/plain": [
       "<Axes: xlabel='experience', ylabel='count'>"
      ]
     },
     "execution_count": 25,
     "metadata": {},
     "output_type": "execute_result"
    },
    {
     "data": {
      "image/png": "[encoded data removed]",
      "text/plain": [
       "<Figure size 640x480 with 1 Axes>"
      ]
     },
     "metadata": {},
     "output_type": "display_data"
    }
   ],
   "source": [
    "sns.countplot(x=\"experience\" , data=train , hue=\"target\")"
   ]
  },
  {
   "cell_type": "code",
   "execution_count": 26,
   "id": "7e383e99",
   "metadata": {
    "execution": {
     "iopub.execute_input": "2023-12-04T09:32:06.811395Z",
     "iopub.status.busy": "2023-12-04T09:32:06.811049Z",
     "iopub.status.idle": "2023-12-04T09:32:07.043273Z",
     "shell.execute_reply": "2023-12-04T09:32:07.042221Z"
    },
    "papermill": {
     "duration": 0.253592,
     "end_time": "2023-12-04T09:32:07.045097",
     "exception": false,
     "start_time": "2023-12-04T09:32:06.791505",
     "status": "completed"
    },
    "tags": []
   },
   "outputs": [
    {
     "data": {
      "text/plain": [
       "<Axes: xlabel='last_new_job', ylabel='count'>"
      ]
     },
     "execution_count": 26,
     "metadata": {},
     "output_type": "execute_result"
    },
    {
     "data": {
      "image/png": "[encoded data removed]",
      "text/plain": [
       "<Figure size 640x480 with 1 Axes>"
      ]
     },
     "metadata": {},
     "output_type": "display_data"
    }
   ],
   "source": [
    "sns.countplot(x=\"last_new_job\", data=train , hue=\"target\")"
   ]
  },
  {
   "cell_type": "code",
   "execution_count": 27,
   "id": "983be778",
   "metadata": {
    "execution": {
     "iopub.execute_input": "2023-12-04T09:32:07.084434Z",
     "iopub.status.busy": "2023-12-04T09:32:07.083990Z",
     "iopub.status.idle": "2023-12-04T09:32:07.703860Z",
     "shell.execute_reply": "2023-12-04T09:32:07.703018Z"
    },
    "papermill": {
     "duration": 0.64104,
     "end_time": "2023-12-04T09:32:07.705524",
     "exception": false,
     "start_time": "2023-12-04T09:32:07.064484",
     "status": "completed"
    },
    "tags": []
   },
   "outputs": [
    {
     "data": {
      "text/plain": [
       "<Axes: xlabel='training_hours', ylabel='Count'>"
      ]
     },
     "execution_count": 27,
     "metadata": {},
     "output_type": "execute_result"
    },
    {
     "data": {
      "image/png": "[encoded data removed]",
      "text/plain": [
       "<Figure size 640x480 with 1 Axes>"
      ]
     },
     "metadata": {},
     "output_type": "display_data"
    }
   ],
   "source": [
    "sns.histplot(x=\"training_hours\", data=train , hue=\"target\",kde=True )"
   ]
  },
  {
   "cell_type": "markdown",
   "id": "29a7b31e",
   "metadata": {
    "papermill": {
     "duration": 0.020815,
     "end_time": "2023-12-04T09:32:07.746162",
     "exception": false,
     "start_time": "2023-12-04T09:32:07.725347",
     "status": "completed"
    },
    "tags": []
   },
   "source": [
    "1. **Data is imbalance as per target feature**\n",
    "2. **Company type, Gender, city, city development index & major discipline data is completed imbalance & one sided hence will not going to consider this feature for training**"
   ]
  },
  {
   "cell_type": "code",
   "execution_count": 28,
   "id": "ec73d4c5",
   "metadata": {
    "execution": {
     "iopub.execute_input": "2023-12-04T09:32:07.786292Z",
     "iopub.status.busy": "2023-12-04T09:32:07.785969Z",
     "iopub.status.idle": "2023-12-04T09:32:07.930068Z",
     "shell.execute_reply": "2023-12-04T09:32:07.929246Z"
    },
    "papermill": {
     "duration": 0.166194,
     "end_time": "2023-12-04T09:32:07.931903",
     "exception": false,
     "start_time": "2023-12-04T09:32:07.765709",
     "status": "completed"
    },
    "tags": []
   },
   "outputs": [
    {
     "data": {
      "text/plain": [
       "<Axes: ylabel='enrollee_id'>"
      ]
     },
     "execution_count": 28,
     "metadata": {},
     "output_type": "execute_result"
    },
    {
     "data": {
      "image/png": "[encoded data removed]",
      "text/plain": [
       "<Figure size 640x480 with 1 Axes>"
      ]
     },
     "metadata": {},
     "output_type": "display_data"
    }
   ],
   "source": [
    "sns.boxplot(y=\"enrollee_id\",data=train)\n",
    "      "
   ]
  },
  {
   "cell_type": "code",
   "execution_count": 29,
   "id": "d0080a9b",
   "metadata": {
    "execution": {
     "iopub.execute_input": "2023-12-04T09:32:07.974887Z",
     "iopub.status.busy": "2023-12-04T09:32:07.974388Z",
     "iopub.status.idle": "2023-12-04T09:32:08.109675Z",
     "shell.execute_reply": "2023-12-04T09:32:08.108961Z"
    },
    "papermill": {
     "duration": 0.15834,
     "end_time": "2023-12-04T09:32:08.111663",
     "exception": false,
     "start_time": "2023-12-04T09:32:07.953323",
     "status": "completed"
    },
    "tags": []
   },
   "outputs": [
    {
     "data": {
      "text/plain": [
       "<Axes: ylabel='city_development_index'>"
      ]
     },
     "execution_count": 29,
     "metadata": {},
     "output_type": "execute_result"
    },
    {
     "data": {
      "image/png": "[encoded data removed]",
      "text/plain": [
       "<Figure size 640x480 with 1 Axes>"
      ]
     },
     "metadata": {},
     "output_type": "display_data"
    }
   ],
   "source": [
    "sns.boxplot(y=\"city_development_index\",data=train)"
   ]
  },
  {
   "cell_type": "code",
   "execution_count": 30,
   "id": "d77d45f7",
   "metadata": {
    "execution": {
     "iopub.execute_input": "2023-12-04T09:32:08.158094Z",
     "iopub.status.busy": "2023-12-04T09:32:08.157582Z",
     "iopub.status.idle": "2023-12-04T09:32:08.389008Z",
     "shell.execute_reply": "2023-12-04T09:32:08.388411Z"
    },
    "papermill": {
     "duration": 0.254894,
     "end_time": "2023-12-04T09:32:08.390603",
     "exception": false,
     "start_time": "2023-12-04T09:32:08.135709",
     "status": "completed"
    },
    "tags": []
   },
   "outputs": [
    {
     "data": {
      "text/plain": [
       "<Axes: xlabel='target'>"
      ]
     },
     "execution_count": 30,
     "metadata": {},
     "output_type": "execute_result"
    },
    {
     "data": {
      "image/png": "[encoded data removed]",
      "text/plain": [
       "<Figure size 640x480 with 1 Axes>"
      ]
     },
     "metadata": {},
     "output_type": "display_data"
    }
   ],
   "source": [
    "sns.boxplot(x=\"target\",data=train)"
   ]
  },
  {
   "cell_type": "code",
   "execution_count": 31,
   "id": "273ad8ff",
   "metadata": {
    "execution": {
     "iopub.execute_input": "2023-12-04T09:32:08.433630Z",
     "iopub.status.busy": "2023-12-04T09:32:08.433302Z",
     "iopub.status.idle": "2023-12-04T09:32:08.584331Z",
     "shell.execute_reply": "2023-12-04T09:32:08.583439Z"
    },
    "papermill": {
     "duration": 0.174997,
     "end_time": "2023-12-04T09:32:08.586507",
     "exception": false,
     "start_time": "2023-12-04T09:32:08.411510",
     "status": "completed"
    },
    "tags": []
   },
   "outputs": [
    {
     "data": {
      "text/plain": [
       "<Axes: ylabel='training_hours'>"
      ]
     },
     "execution_count": 31,
     "metadata": {},
     "output_type": "execute_result"
    },
    {
     "data": {
      "image/png": "[encoded data removed]",
      "text/plain": [
       "<Figure size 640x480 with 1 Axes>"
      ]
     },
     "metadata": {},
     "output_type": "display_data"
    }
   ],
   "source": [
    "sns.boxplot(y=\"training_hours\",data=train)"
   ]
  },
  {
   "cell_type": "markdown",
   "id": "80e2383f",
   "metadata": {
    "papermill": {
     "duration": 0.020357,
     "end_time": "2023-12-04T09:32:08.627695",
     "exception": false,
     "start_time": "2023-12-04T09:32:08.607338",
     "status": "completed"
    },
    "tags": []
   },
   "source": [
    "* **In training_hours there are outliers which we will goint to remove while training**"
   ]
  },
  {
   "cell_type": "code",
   "execution_count": 32,
   "id": "32b53fca",
   "metadata": {
    "execution": {
     "iopub.execute_input": "2023-12-04T09:32:08.670863Z",
     "iopub.status.busy": "2023-12-04T09:32:08.670557Z",
     "iopub.status.idle": "2023-12-04T09:32:09.014636Z",
     "shell.execute_reply": "2023-12-04T09:32:09.013236Z"
    },
    "papermill": {
     "duration": 0.368055,
     "end_time": "2023-12-04T09:32:09.016754",
     "exception": false,
     "start_time": "2023-12-04T09:32:08.648699",
     "status": "completed"
    },
    "tags": []
   },
   "outputs": [
    {
     "data": {
      "text/plain": [
       "Text(0.5, 1.0, 'Outliers Analysis of Training hrs')"
      ]
     },
     "execution_count": 32,
     "metadata": {},
     "output_type": "execute_result"
    },
    {
     "data": {
      "image/png": "[encoded data removed]",
      "text/plain": [
       "<Figure size 640x480 with 1 Axes>"
      ]
     },
     "metadata": {},
     "output_type": "display_data"
    }
   ],
   "source": [
    "training_hour = train[train['training_hours'] > 184]\n",
    "\n",
    "sns.histplot(x='training_hours',data=training_hour, hue='target').set_title(\"Outliers Analysis of Training hrs\")"
   ]
  },
  {
   "cell_type": "markdown",
   "id": "627f11f8",
   "metadata": {
    "papermill": {
     "duration": 0.020635,
     "end_time": "2023-12-04T09:32:09.061428",
     "exception": false,
     "start_time": "2023-12-04T09:32:09.040793",
     "status": "completed"
    },
    "tags": []
   },
   "source": [
    "* **Removal of unwanted feactures or columns**"
   ]
  },
  {
   "cell_type": "code",
   "execution_count": 33,
   "id": "cbe196ba",
   "metadata": {
    "execution": {
     "iopub.execute_input": "2023-12-04T09:32:09.108314Z",
     "iopub.status.busy": "2023-12-04T09:32:09.107966Z",
     "iopub.status.idle": "2023-12-04T09:32:09.113973Z",
     "shell.execute_reply": "2023-12-04T09:32:09.113151Z"
    },
    "papermill": {
     "duration": 0.033284,
     "end_time": "2023-12-04T09:32:09.115795",
     "exception": false,
     "start_time": "2023-12-04T09:32:09.082511",
     "status": "completed"
    },
    "tags": []
   },
   "outputs": [],
   "source": [
    "train.drop([\"enrollee_id\",\"city\",\"major_discipline\",\"company_type\"], axis = 1 , inplace=True)"
   ]
  },
  {
   "cell_type": "code",
   "execution_count": 34,
   "id": "f1e6e96d",
   "metadata": {
    "execution": {
     "iopub.execute_input": "2023-12-04T09:32:09.161031Z",
     "iopub.status.busy": "2023-12-04T09:32:09.160692Z",
     "iopub.status.idle": "2023-12-04T09:32:09.173710Z",
     "shell.execute_reply": "2023-12-04T09:32:09.172486Z"
    },
    "papermill": {
     "duration": 0.037408,
     "end_time": "2023-12-04T09:32:09.175333",
     "exception": false,
     "start_time": "2023-12-04T09:32:09.137925",
     "status": "completed"
    },
    "tags": []
   },
   "outputs": [
    {
     "data": {
      "text/html": [
       "<div>\n",
       "<style scoped>\n",
       "    .dataframe tbody tr th:only-of-type {\n",
       "        vertical-align: middle;\n",
       "    }\n",
       "\n",
       "    .dataframe tbody tr th {\n",
       "        vertical-align: top;\n",
       "    }\n",
       "\n",
       "    .dataframe thead th {\n",
       "        text-align: right;\n",
       "    }\n",
       "</style>\n",
       "<table border=\"1\" class=\"dataframe\">\n",
       "  <thead>\n",
       "    <tr style=\"text-align: right;\">\n",
       "      <th></th>\n",
       "      <th>city_development_index</th>\n",
       "      <th>gender</th>\n",
       "      <th>relevent_experience</th>\n",
       "      <th>enrolled_university</th>\n",
       "      <th>education_level</th>\n",
       "      <th>experience</th>\n",
       "      <th>company_size</th>\n",
       "      <th>last_new_job</th>\n",
       "      <th>training_hours</th>\n",
       "      <th>target</th>\n",
       "    </tr>\n",
       "  </thead>\n",
       "  <tbody>\n",
       "    <tr>\n",
       "      <th>0</th>\n",
       "      <td>0.920</td>\n",
       "      <td>Male</td>\n",
       "      <td>Has relevent experience</td>\n",
       "      <td>no_enrollment</td>\n",
       "      <td>Graduate</td>\n",
       "      <td>&gt;20</td>\n",
       "      <td>NaN</td>\n",
       "      <td>1</td>\n",
       "      <td>36</td>\n",
       "      <td>1.0</td>\n",
       "    </tr>\n",
       "    <tr>\n",
       "      <th>1</th>\n",
       "      <td>0.776</td>\n",
       "      <td>Male</td>\n",
       "      <td>No relevent experience</td>\n",
       "      <td>no_enrollment</td>\n",
       "      <td>Graduate</td>\n",
       "      <td>15</td>\n",
       "      <td>50-99</td>\n",
       "      <td>&gt;4</td>\n",
       "      <td>47</td>\n",
       "      <td>0.0</td>\n",
       "    </tr>\n",
       "    <tr>\n",
       "      <th>2</th>\n",
       "      <td>0.624</td>\n",
       "      <td>NaN</td>\n",
       "      <td>No relevent experience</td>\n",
       "      <td>Full time course</td>\n",
       "      <td>Graduate</td>\n",
       "      <td>5</td>\n",
       "      <td>NaN</td>\n",
       "      <td>never</td>\n",
       "      <td>83</td>\n",
       "      <td>0.0</td>\n",
       "    </tr>\n",
       "    <tr>\n",
       "      <th>3</th>\n",
       "      <td>0.789</td>\n",
       "      <td>NaN</td>\n",
       "      <td>No relevent experience</td>\n",
       "      <td>NaN</td>\n",
       "      <td>Graduate</td>\n",
       "      <td>&lt;1</td>\n",
       "      <td>NaN</td>\n",
       "      <td>never</td>\n",
       "      <td>52</td>\n",
       "      <td>1.0</td>\n",
       "    </tr>\n",
       "  </tbody>\n",
       "</table>\n",
       "</div>"
      ],
      "text/plain": [
       "   city_development_index gender      relevent_experience enrolled_university  \\\n",
       "0                   0.920   Male  Has relevent experience       no_enrollment   \n",
       "1                   0.776   Male   No relevent experience       no_enrollment   \n",
       "2                   0.624    NaN   No relevent experience    Full time course   \n",
       "3                   0.789    NaN   No relevent experience                 NaN   \n",
       "\n",
       "  education_level experience company_size last_new_job  training_hours  target  \n",
       "0        Graduate        >20          NaN            1              36     1.0  \n",
       "1        Graduate         15        50-99           >4              47     0.0  \n",
       "2        Graduate          5          NaN        never              83     0.0  \n",
       "3        Graduate         <1          NaN        never              52     1.0  "
      ]
     },
     "execution_count": 34,
     "metadata": {},
     "output_type": "execute_result"
    }
   ],
   "source": [
    "train.head(4)"
   ]
  },
  {
   "cell_type": "markdown",
   "id": "021db948",
   "metadata": {
    "papermill": {
     "duration": 0.027555,
     "end_time": "2023-12-04T09:32:09.225439",
     "exception": false,
     "start_time": "2023-12-04T09:32:09.197884",
     "status": "completed"
    },
    "tags": []
   },
   "source": [
    "# **DEALING WITH NULL VALUES**"
   ]
  },
  {
   "cell_type": "code",
   "execution_count": 35,
   "id": "30cb4a32",
   "metadata": {
    "execution": {
     "iopub.execute_input": "2023-12-04T09:32:09.270720Z",
     "iopub.status.busy": "2023-12-04T09:32:09.270378Z",
     "iopub.status.idle": "2023-12-04T09:32:09.283960Z",
     "shell.execute_reply": "2023-12-04T09:32:09.283379Z"
    },
    "papermill": {
     "duration": 0.039514,
     "end_time": "2023-12-04T09:32:09.286010",
     "exception": false,
     "start_time": "2023-12-04T09:32:09.246496",
     "status": "completed"
    },
    "tags": []
   },
   "outputs": [
    {
     "name": "stdout",
     "output_type": "stream",
     "text": [
      "<class 'pandas.core.frame.DataFrame'>\n",
      "RangeIndex: 19158 entries, 0 to 19157\n",
      "Data columns (total 10 columns):\n",
      " #   Column                  Non-Null Count  Dtype  \n",
      "---  ------                  --------------  -----  \n",
      " 0   city_development_index  19158 non-null  float64\n",
      " 1   gender                  14650 non-null  object \n",
      " 2   relevent_experience     19158 non-null  object \n",
      " 3   enrolled_university     18772 non-null  object \n",
      " 4   education_level         18698 non-null  object \n",
      " 5   experience              19093 non-null  object \n",
      " 6   company_size            13220 non-null  object \n",
      " 7   last_new_job            18735 non-null  object \n",
      " 8   training_hours          19158 non-null  int64  \n",
      " 9   target                  19158 non-null  float64\n",
      "dtypes: float64(2), int64(1), object(7)\n",
      "memory usage: 1.5+ MB\n"
     ]
    }
   ],
   "source": [
    "train.info()"
   ]
  },
  {
   "cell_type": "code",
   "execution_count": 36,
   "id": "500f7b0d",
   "metadata": {
    "execution": {
     "iopub.execute_input": "2023-12-04T09:32:09.331565Z",
     "iopub.status.busy": "2023-12-04T09:32:09.331196Z",
     "iopub.status.idle": "2023-12-04T09:32:09.342228Z",
     "shell.execute_reply": "2023-12-04T09:32:09.341404Z"
    },
    "papermill": {
     "duration": 0.035471,
     "end_time": "2023-12-04T09:32:09.343746",
     "exception": false,
     "start_time": "2023-12-04T09:32:09.308275",
     "status": "completed"
    },
    "tags": []
   },
   "outputs": [
    {
     "data": {
      "text/plain": [
       "city_development_index       0\n",
       "gender                    4508\n",
       "relevent_experience          0\n",
       "enrolled_university        386\n",
       "education_level            460\n",
       "experience                  65\n",
       "company_size              5938\n",
       "last_new_job               423\n",
       "training_hours               0\n",
       "target                       0\n",
       "dtype: int64"
      ]
     },
     "execution_count": 36,
     "metadata": {},
     "output_type": "execute_result"
    }
   ],
   "source": [
    "train.isnull().sum() "
   ]
  },
  {
   "cell_type": "code",
   "execution_count": 37,
   "id": "7ec9553b",
   "metadata": {
    "execution": {
     "iopub.execute_input": "2023-12-04T09:32:09.388368Z",
     "iopub.status.busy": "2023-12-04T09:32:09.388032Z",
     "iopub.status.idle": "2023-12-04T09:32:09.399034Z",
     "shell.execute_reply": "2023-12-04T09:32:09.398242Z"
    },
    "papermill": {
     "duration": 0.035188,
     "end_time": "2023-12-04T09:32:09.400660",
     "exception": false,
     "start_time": "2023-12-04T09:32:09.365472",
     "status": "completed"
    },
    "tags": []
   },
   "outputs": [
    {
     "data": {
      "text/plain": [
       "city_development_index    0.000000\n",
       "gender                    0.235306\n",
       "relevent_experience       0.000000\n",
       "enrolled_university       0.020148\n",
       "education_level           0.024011\n",
       "experience                0.003393\n",
       "company_size              0.309949\n",
       "last_new_job              0.022080\n",
       "training_hours            0.000000\n",
       "target                    0.000000\n",
       "dtype: float64"
      ]
     },
     "execution_count": 37,
     "metadata": {},
     "output_type": "execute_result"
    }
   ],
   "source": [
    "null_percentage = train.isnull().sum() / train.shape[0]\n",
    "null_percentage"
   ]
  },
  {
   "cell_type": "markdown",
   "id": "550229ab",
   "metadata": {
    "papermill": {
     "duration": 0.020995,
     "end_time": "2023-12-04T09:32:09.443671",
     "exception": false,
     "start_time": "2023-12-04T09:32:09.422676",
     "status": "completed"
    },
    "tags": []
   },
   "source": [
    "* **filling null values**"
   ]
  },
  {
   "cell_type": "code",
   "execution_count": 38,
   "id": "f7b8018a",
   "metadata": {
    "execution": {
     "iopub.execute_input": "2023-12-04T09:32:09.487494Z",
     "iopub.status.busy": "2023-12-04T09:32:09.487132Z",
     "iopub.status.idle": "2023-12-04T09:32:09.506889Z",
     "shell.execute_reply": "2023-12-04T09:32:09.506066Z"
    },
    "papermill": {
     "duration": 0.043491,
     "end_time": "2023-12-04T09:32:09.508450",
     "exception": false,
     "start_time": "2023-12-04T09:32:09.464959",
     "status": "completed"
    },
    "tags": []
   },
   "outputs": [],
   "source": [
    "COPY = train\n",
    "null_columns = null_percentage[null_percentage > 0].index\n",
    "for i in null_columns:\n",
    "    train[i] = train[i].fillna(COPY[i].mode()[0])"
   ]
  },
  {
   "cell_type": "code",
   "execution_count": 39,
   "id": "a6c92ade",
   "metadata": {
    "execution": {
     "iopub.execute_input": "2023-12-04T09:32:09.555709Z",
     "iopub.status.busy": "2023-12-04T09:32:09.555357Z",
     "iopub.status.idle": "2023-12-04T09:32:09.566733Z",
     "shell.execute_reply": "2023-12-04T09:32:09.565919Z"
    },
    "papermill": {
     "duration": 0.03637,
     "end_time": "2023-12-04T09:32:09.568276",
     "exception": false,
     "start_time": "2023-12-04T09:32:09.531906",
     "status": "completed"
    },
    "tags": []
   },
   "outputs": [
    {
     "data": {
      "text/plain": [
       "city_development_index    0\n",
       "gender                    0\n",
       "relevent_experience       0\n",
       "enrolled_university       0\n",
       "education_level           0\n",
       "experience                0\n",
       "company_size              0\n",
       "last_new_job              0\n",
       "training_hours            0\n",
       "target                    0\n",
       "dtype: int64"
      ]
     },
     "execution_count": 39,
     "metadata": {},
     "output_type": "execute_result"
    }
   ],
   "source": [
    "train.isnull().sum() "
   ]
  },
  {
   "cell_type": "markdown",
   "id": "e2323930",
   "metadata": {
    "papermill": {
     "duration": 0.022166,
     "end_time": "2023-12-04T09:32:09.613487",
     "exception": false,
     "start_time": "2023-12-04T09:32:09.591321",
     "status": "completed"
    },
    "tags": []
   },
   "source": [
    "#   **columns Formating**"
   ]
  },
  {
   "cell_type": "code",
   "execution_count": 40,
   "id": "de78060d",
   "metadata": {
    "execution": {
     "iopub.execute_input": "2023-12-04T09:32:09.657962Z",
     "iopub.status.busy": "2023-12-04T09:32:09.657625Z",
     "iopub.status.idle": "2023-12-04T09:32:09.672707Z",
     "shell.execute_reply": "2023-12-04T09:32:09.672131Z"
    },
    "papermill": {
     "duration": 0.039338,
     "end_time": "2023-12-04T09:32:09.674370",
     "exception": false,
     "start_time": "2023-12-04T09:32:09.635032",
     "status": "completed"
    },
    "tags": []
   },
   "outputs": [],
   "source": [
    "# formating experience column\n",
    "\n",
    "def experience(x:str)->int:\n",
    "    if type(x) == int:\n",
    "        pass\n",
    "    elif '>' in x: \n",
    "        x = 21\n",
    "    elif '<' in x:\n",
    "        x = 0\n",
    "    else:\n",
    "        x = int(x.strip())\n",
    "    return x\n",
    "\n",
    "train['experience'] = train.experience.map(experience)"
   ]
  },
  {
   "cell_type": "code",
   "execution_count": 41,
   "id": "6d38f4f6",
   "metadata": {
    "execution": {
     "iopub.execute_input": "2023-12-04T09:32:09.720874Z",
     "iopub.status.busy": "2023-12-04T09:32:09.720197Z",
     "iopub.status.idle": "2023-12-04T09:32:09.735681Z",
     "shell.execute_reply": "2023-12-04T09:32:09.734748Z"
    },
    "papermill": {
     "duration": 0.040921,
     "end_time": "2023-12-04T09:32:09.737635",
     "exception": false,
     "start_time": "2023-12-04T09:32:09.696714",
     "status": "completed"
    },
    "tags": []
   },
   "outputs": [],
   "source": [
    "# formating new_job column\n",
    "\n",
    "def new_job(x:str)->int:\n",
    "    \n",
    "    if type(x) == int:\n",
    "        pass\n",
    "    elif 'n' == x[0]:\n",
    "        x = 0\n",
    "    elif '>' in x: \n",
    "        x = 5\n",
    "    else:\n",
    "        x = int(x.strip())\n",
    "    return x\n",
    "\n",
    "train['last_new_job'] = train.last_new_job.map(new_job)"
   ]
  },
  {
   "cell_type": "code",
   "execution_count": 42,
   "id": "733f5f4f",
   "metadata": {
    "execution": {
     "iopub.execute_input": "2023-12-04T09:32:09.784530Z",
     "iopub.status.busy": "2023-12-04T09:32:09.784169Z",
     "iopub.status.idle": "2023-12-04T09:32:09.790817Z",
     "shell.execute_reply": "2023-12-04T09:32:09.790010Z"
    },
    "papermill": {
     "duration": 0.031851,
     "end_time": "2023-12-04T09:32:09.792532",
     "exception": false,
     "start_time": "2023-12-04T09:32:09.760681",
     "status": "completed"
    },
    "tags": []
   },
   "outputs": [
    {
     "data": {
      "text/plain": [
       "array(['50-99', '<10', '10000+', '5000-9999', '1000-4999', '10/49',\n",
       "       '100-500', '500-999'], dtype=object)"
      ]
     },
     "execution_count": 42,
     "metadata": {},
     "output_type": "execute_result"
    }
   ],
   "source": [
    "train['company_size'].unique()"
   ]
  },
  {
   "cell_type": "code",
   "execution_count": 43,
   "id": "b3c98937",
   "metadata": {
    "execution": {
     "iopub.execute_input": "2023-12-04T09:32:09.838142Z",
     "iopub.status.busy": "2023-12-04T09:32:09.837653Z",
     "iopub.status.idle": "2023-12-04T09:32:09.848345Z",
     "shell.execute_reply": "2023-12-04T09:32:09.847699Z"
    },
    "papermill": {
     "duration": 0.034972,
     "end_time": "2023-12-04T09:32:09.850083",
     "exception": false,
     "start_time": "2023-12-04T09:32:09.815111",
     "status": "completed"
    },
    "tags": []
   },
   "outputs": [],
   "source": [
    "# formating company_size column\n",
    "\n",
    "company_size = {\n",
    "    '<10'       : 0,\n",
    "    '10/49'     : 1,\n",
    "    '50-99'     : 2,\n",
    "    '100-500'   : 3,\n",
    "    '500-999'   : 4,\n",
    "    '1000-4999' : 5,\n",
    "    '5000-9999' : 6,\n",
    "    '10000+'    : 7\n",
    "}\n",
    "\n",
    "train['company_size'] = train.company_size.map(lambda x : company_size[x])"
   ]
  },
  {
   "cell_type": "markdown",
   "id": "eca9e81a",
   "metadata": {
    "papermill": {
     "duration": 0.021882,
     "end_time": "2023-12-04T09:32:09.894792",
     "exception": false,
     "start_time": "2023-12-04T09:32:09.872910",
     "status": "completed"
    },
    "tags": []
   },
   "source": [
    "#  **Performing One Hot Encoding**"
   ]
  },
  {
   "cell_type": "code",
   "execution_count": 44,
   "id": "f18816e5",
   "metadata": {
    "execution": {
     "iopub.execute_input": "2023-12-04T09:32:09.942007Z",
     "iopub.status.busy": "2023-12-04T09:32:09.941328Z",
     "iopub.status.idle": "2023-12-04T09:32:09.948667Z",
     "shell.execute_reply": "2023-12-04T09:32:09.947801Z"
    },
    "papermill": {
     "duration": 0.034028,
     "end_time": "2023-12-04T09:32:09.950321",
     "exception": false,
     "start_time": "2023-12-04T09:32:09.916293",
     "status": "completed"
    },
    "tags": []
   },
   "outputs": [
    {
     "data": {
      "text/plain": [
       "city_development_index    float64\n",
       "gender                     object\n",
       "relevent_experience        object\n",
       "enrolled_university        object\n",
       "education_level            object\n",
       "experience                  int64\n",
       "company_size                int64\n",
       "last_new_job                int64\n",
       "training_hours              int64\n",
       "target                    float64\n",
       "dtype: object"
      ]
     },
     "execution_count": 44,
     "metadata": {},
     "output_type": "execute_result"
    }
   ],
   "source": [
    "train.dtypes\n"
   ]
  },
  {
   "cell_type": "code",
   "execution_count": 45,
   "id": "89845e9a",
   "metadata": {
    "execution": {
     "iopub.execute_input": "2023-12-04T09:32:09.995864Z",
     "iopub.status.busy": "2023-12-04T09:32:09.995558Z",
     "iopub.status.idle": "2023-12-04T09:32:10.001618Z",
     "shell.execute_reply": "2023-12-04T09:32:10.000964Z"
    },
    "papermill": {
     "duration": 0.030812,
     "end_time": "2023-12-04T09:32:10.003191",
     "exception": false,
     "start_time": "2023-12-04T09:32:09.972379",
     "status": "completed"
    },
    "tags": []
   },
   "outputs": [
    {
     "data": {
      "text/plain": [
       "array(['Male', 'Female', 'Other'], dtype=object)"
      ]
     },
     "execution_count": 45,
     "metadata": {},
     "output_type": "execute_result"
    }
   ],
   "source": [
    "train[\"gender\"].unique() "
   ]
  },
  {
   "cell_type": "code",
   "execution_count": 46,
   "id": "bb3080ae",
   "metadata": {
    "execution": {
     "iopub.execute_input": "2023-12-04T09:32:10.050178Z",
     "iopub.status.busy": "2023-12-04T09:32:10.049241Z",
     "iopub.status.idle": "2023-12-04T09:32:10.057244Z",
     "shell.execute_reply": "2023-12-04T09:32:10.056298Z"
    },
    "papermill": {
     "duration": 0.033496,
     "end_time": "2023-12-04T09:32:10.059325",
     "exception": false,
     "start_time": "2023-12-04T09:32:10.025829",
     "status": "completed"
    },
    "tags": []
   },
   "outputs": [
    {
     "data": {
      "text/plain": [
       "array(['Has relevent experience', 'No relevent experience'], dtype=object)"
      ]
     },
     "execution_count": 46,
     "metadata": {},
     "output_type": "execute_result"
    }
   ],
   "source": [
    "train[\"relevent_experience\"].unique()"
   ]
  },
  {
   "cell_type": "code",
   "execution_count": 47,
   "id": "e5a08294",
   "metadata": {
    "execution": {
     "iopub.execute_input": "2023-12-04T09:32:10.105234Z",
     "iopub.status.busy": "2023-12-04T09:32:10.104046Z",
     "iopub.status.idle": "2023-12-04T09:32:10.111286Z",
     "shell.execute_reply": "2023-12-04T09:32:10.110636Z"
    },
    "papermill": {
     "duration": 0.031102,
     "end_time": "2023-12-04T09:32:10.112908",
     "exception": false,
     "start_time": "2023-12-04T09:32:10.081806",
     "status": "completed"
    },
    "tags": []
   },
   "outputs": [
    {
     "data": {
      "text/plain": [
       "array(['no_enrollment', 'Full time course', 'Part time course'],\n",
       "      dtype=object)"
      ]
     },
     "execution_count": 47,
     "metadata": {},
     "output_type": "execute_result"
    }
   ],
   "source": [
    "train[\"enrolled_university\"].unique()"
   ]
  },
  {
   "cell_type": "code",
   "execution_count": 48,
   "id": "4e0f6ee1",
   "metadata": {
    "execution": {
     "iopub.execute_input": "2023-12-04T09:32:10.158085Z",
     "iopub.status.busy": "2023-12-04T09:32:10.157549Z",
     "iopub.status.idle": "2023-12-04T09:32:10.179526Z",
     "shell.execute_reply": "2023-12-04T09:32:10.178415Z"
    },
    "papermill": {
     "duration": 0.046346,
     "end_time": "2023-12-04T09:32:10.181073",
     "exception": false,
     "start_time": "2023-12-04T09:32:10.134727",
     "status": "completed"
    },
    "tags": []
   },
   "outputs": [
    {
     "name": "stdout",
     "output_type": "stream",
     "text": [
      "['Female' 'Male' 'Other' 'Full time course' 'Part time course'\n",
      " 'no_enrollment']\n"
     ]
    }
   ],
   "source": [
    "ohe=OneHotEncoder()\n",
    "feature_array=ohe.fit_transform(train[[\"gender\",\"enrolled_university\"]]).toarray()\n",
    "\n",
    "feature_label=ohe.categories_\n",
    "\n",
    "\n",
    "feature_label=np.array(feature_label).ravel()\n",
    "print(feature_label)\n",
    "\n",
    "features=pd.DataFrame(feature_array, columns = feature_label)\n",
    "train1=pd.concat([train,features], axis=1)\n",
    "\n"
   ]
  },
  {
   "cell_type": "code",
   "execution_count": 49,
   "id": "07e93892",
   "metadata": {
    "execution": {
     "iopub.execute_input": "2023-12-04T09:32:10.226919Z",
     "iopub.status.busy": "2023-12-04T09:32:10.226455Z",
     "iopub.status.idle": "2023-12-04T09:32:10.254055Z",
     "shell.execute_reply": "2023-12-04T09:32:10.253274Z"
    },
    "papermill": {
     "duration": 0.052466,
     "end_time": "2023-12-04T09:32:10.255884",
     "exception": false,
     "start_time": "2023-12-04T09:32:10.203418",
     "status": "completed"
    },
    "tags": []
   },
   "outputs": [
    {
     "name": "stdout",
     "output_type": "stream",
     "text": [
      "['Has relevent experience' 'No relevent experience']\n"
     ]
    },
    {
     "data": {
      "text/html": [
       "<div>\n",
       "<style scoped>\n",
       "    .dataframe tbody tr th:only-of-type {\n",
       "        vertical-align: middle;\n",
       "    }\n",
       "\n",
       "    .dataframe tbody tr th {\n",
       "        vertical-align: top;\n",
       "    }\n",
       "\n",
       "    .dataframe thead th {\n",
       "        text-align: right;\n",
       "    }\n",
       "</style>\n",
       "<table border=\"1\" class=\"dataframe\">\n",
       "  <thead>\n",
       "    <tr style=\"text-align: right;\">\n",
       "      <th></th>\n",
       "      <th>city_development_index</th>\n",
       "      <th>gender</th>\n",
       "      <th>relevent_experience</th>\n",
       "      <th>enrolled_university</th>\n",
       "      <th>education_level</th>\n",
       "      <th>experience</th>\n",
       "      <th>company_size</th>\n",
       "      <th>last_new_job</th>\n",
       "      <th>training_hours</th>\n",
       "      <th>target</th>\n",
       "      <th>Female</th>\n",
       "      <th>Male</th>\n",
       "      <th>Other</th>\n",
       "      <th>Full time course</th>\n",
       "      <th>Part time course</th>\n",
       "      <th>no_enrollment</th>\n",
       "      <th>Has relevent experience</th>\n",
       "      <th>No relevent experience</th>\n",
       "    </tr>\n",
       "  </thead>\n",
       "  <tbody>\n",
       "    <tr>\n",
       "      <th>0</th>\n",
       "      <td>0.920</td>\n",
       "      <td>Male</td>\n",
       "      <td>Has relevent experience</td>\n",
       "      <td>no_enrollment</td>\n",
       "      <td>Graduate</td>\n",
       "      <td>21</td>\n",
       "      <td>2</td>\n",
       "      <td>1</td>\n",
       "      <td>36</td>\n",
       "      <td>1.0</td>\n",
       "      <td>0.0</td>\n",
       "      <td>1.0</td>\n",
       "      <td>0.0</td>\n",
       "      <td>0.0</td>\n",
       "      <td>0.0</td>\n",
       "      <td>1.0</td>\n",
       "      <td>1.0</td>\n",
       "      <td>0.0</td>\n",
       "    </tr>\n",
       "    <tr>\n",
       "      <th>1</th>\n",
       "      <td>0.776</td>\n",
       "      <td>Male</td>\n",
       "      <td>No relevent experience</td>\n",
       "      <td>no_enrollment</td>\n",
       "      <td>Graduate</td>\n",
       "      <td>15</td>\n",
       "      <td>2</td>\n",
       "      <td>5</td>\n",
       "      <td>47</td>\n",
       "      <td>0.0</td>\n",
       "      <td>0.0</td>\n",
       "      <td>1.0</td>\n",
       "      <td>0.0</td>\n",
       "      <td>0.0</td>\n",
       "      <td>0.0</td>\n",
       "      <td>1.0</td>\n",
       "      <td>0.0</td>\n",
       "      <td>1.0</td>\n",
       "    </tr>\n",
       "    <tr>\n",
       "      <th>2</th>\n",
       "      <td>0.624</td>\n",
       "      <td>Male</td>\n",
       "      <td>No relevent experience</td>\n",
       "      <td>Full time course</td>\n",
       "      <td>Graduate</td>\n",
       "      <td>5</td>\n",
       "      <td>2</td>\n",
       "      <td>0</td>\n",
       "      <td>83</td>\n",
       "      <td>0.0</td>\n",
       "      <td>0.0</td>\n",
       "      <td>1.0</td>\n",
       "      <td>0.0</td>\n",
       "      <td>1.0</td>\n",
       "      <td>0.0</td>\n",
       "      <td>0.0</td>\n",
       "      <td>0.0</td>\n",
       "      <td>1.0</td>\n",
       "    </tr>\n",
       "    <tr>\n",
       "      <th>3</th>\n",
       "      <td>0.789</td>\n",
       "      <td>Male</td>\n",
       "      <td>No relevent experience</td>\n",
       "      <td>no_enrollment</td>\n",
       "      <td>Graduate</td>\n",
       "      <td>0</td>\n",
       "      <td>2</td>\n",
       "      <td>0</td>\n",
       "      <td>52</td>\n",
       "      <td>1.0</td>\n",
       "      <td>0.0</td>\n",
       "      <td>1.0</td>\n",
       "      <td>0.0</td>\n",
       "      <td>0.0</td>\n",
       "      <td>0.0</td>\n",
       "      <td>1.0</td>\n",
       "      <td>0.0</td>\n",
       "      <td>1.0</td>\n",
       "    </tr>\n",
       "    <tr>\n",
       "      <th>4</th>\n",
       "      <td>0.767</td>\n",
       "      <td>Male</td>\n",
       "      <td>Has relevent experience</td>\n",
       "      <td>no_enrollment</td>\n",
       "      <td>Masters</td>\n",
       "      <td>21</td>\n",
       "      <td>2</td>\n",
       "      <td>4</td>\n",
       "      <td>8</td>\n",
       "      <td>0.0</td>\n",
       "      <td>0.0</td>\n",
       "      <td>1.0</td>\n",
       "      <td>0.0</td>\n",
       "      <td>0.0</td>\n",
       "      <td>0.0</td>\n",
       "      <td>1.0</td>\n",
       "      <td>1.0</td>\n",
       "      <td>0.0</td>\n",
       "    </tr>\n",
       "  </tbody>\n",
       "</table>\n",
       "</div>"
      ],
      "text/plain": [
       "   city_development_index gender      relevent_experience enrolled_university  \\\n",
       "0                   0.920   Male  Has relevent experience       no_enrollment   \n",
       "1                   0.776   Male   No relevent experience       no_enrollment   \n",
       "2                   0.624   Male   No relevent experience    Full time course   \n",
       "3                   0.789   Male   No relevent experience       no_enrollment   \n",
       "4                   0.767   Male  Has relevent experience       no_enrollment   \n",
       "\n",
       "  education_level  experience  company_size  last_new_job  training_hours  \\\n",
       "0        Graduate          21             2             1              36   \n",
       "1        Graduate          15             2             5              47   \n",
       "2        Graduate           5             2             0              83   \n",
       "3        Graduate           0             2             0              52   \n",
       "4         Masters          21             2             4               8   \n",
       "\n",
       "   target  Female  Male  Other  Full time course  Part time course  \\\n",
       "0     1.0     0.0   1.0    0.0               0.0               0.0   \n",
       "1     0.0     0.0   1.0    0.0               0.0               0.0   \n",
       "2     0.0     0.0   1.0    0.0               1.0               0.0   \n",
       "3     1.0     0.0   1.0    0.0               0.0               0.0   \n",
       "4     0.0     0.0   1.0    0.0               0.0               0.0   \n",
       "\n",
       "   no_enrollment  Has relevent experience  No relevent experience  \n",
       "0            1.0                      1.0                     0.0  \n",
       "1            1.0                      0.0                     1.0  \n",
       "2            0.0                      0.0                     1.0  \n",
       "3            1.0                      0.0                     1.0  \n",
       "4            1.0                      1.0                     0.0  "
      ]
     },
     "execution_count": 49,
     "metadata": {},
     "output_type": "execute_result"
    }
   ],
   "source": [
    "ohe=OneHotEncoder()\n",
    "feature_array=ohe.fit_transform(train[[\"relevent_experience\"]]).toarray()\n",
    "\n",
    "feature_label=ohe.categories_\n",
    "\n",
    "\n",
    "feature_label=np.array(feature_label).ravel()\n",
    "print(feature_label)\n",
    "\n",
    "features=pd.DataFrame(feature_array, columns = feature_label)\n",
    "final_train=pd.concat([train1,features], axis=1)\n",
    "final_train.head()"
   ]
  },
  {
   "cell_type": "markdown",
   "id": "5b3bd1ff",
   "metadata": {
    "papermill": {
     "duration": 0.02207,
     "end_time": "2023-12-04T09:32:10.300794",
     "exception": false,
     "start_time": "2023-12-04T09:32:10.278724",
     "status": "completed"
    },
    "tags": []
   },
   "source": [
    "# Now, apply the same changes to the test data."
   ]
  },
  {
   "cell_type": "code",
   "execution_count": 50,
   "id": "46b46cf3",
   "metadata": {
    "execution": {
     "iopub.execute_input": "2023-12-04T09:32:10.346515Z",
     "iopub.status.busy": "2023-12-04T09:32:10.345985Z",
     "iopub.status.idle": "2023-12-04T09:32:10.353351Z",
     "shell.execute_reply": "2023-12-04T09:32:10.352523Z"
    },
    "papermill": {
     "duration": 0.03235,
     "end_time": "2023-12-04T09:32:10.354936",
     "exception": false,
     "start_time": "2023-12-04T09:32:10.322586",
     "status": "completed"
    },
    "tags": []
   },
   "outputs": [
    {
     "data": {
      "text/plain": [
       "enrollee_id                 0\n",
       "city                        0\n",
       "city_development_index      0\n",
       "gender                    508\n",
       "relevent_experience         0\n",
       "enrolled_university        31\n",
       "education_level            52\n",
       "major_discipline          312\n",
       "experience                  5\n",
       "company_size              622\n",
       "company_type              634\n",
       "last_new_job               40\n",
       "training_hours              0\n",
       "dtype: int64"
      ]
     },
     "execution_count": 50,
     "metadata": {},
     "output_type": "execute_result"
    }
   ],
   "source": [
    "test.isnull().sum() "
   ]
  },
  {
   "cell_type": "code",
   "execution_count": 51,
   "id": "081dd534",
   "metadata": {
    "execution": {
     "iopub.execute_input": "2023-12-04T09:32:10.402031Z",
     "iopub.status.busy": "2023-12-04T09:32:10.401695Z",
     "iopub.status.idle": "2023-12-04T09:32:10.407726Z",
     "shell.execute_reply": "2023-12-04T09:32:10.406728Z"
    },
    "papermill": {
     "duration": 0.031634,
     "end_time": "2023-12-04T09:32:10.409884",
     "exception": false,
     "start_time": "2023-12-04T09:32:10.378250",
     "status": "completed"
    },
    "tags": []
   },
   "outputs": [],
   "source": [
    "test.drop([\"enrollee_id\",\"city\",\"major_discipline\",\"company_type\"], axis = 1 , inplace=True)"
   ]
  },
  {
   "cell_type": "code",
   "execution_count": 52,
   "id": "df2f5029",
   "metadata": {
    "execution": {
     "iopub.execute_input": "2023-12-04T09:32:10.457409Z",
     "iopub.status.busy": "2023-12-04T09:32:10.457047Z",
     "iopub.status.idle": "2023-12-04T09:32:10.464967Z",
     "shell.execute_reply": "2023-12-04T09:32:10.464200Z"
    },
    "papermill": {
     "duration": 0.03279,
     "end_time": "2023-12-04T09:32:10.466481",
     "exception": false,
     "start_time": "2023-12-04T09:32:10.433691",
     "status": "completed"
    },
    "tags": []
   },
   "outputs": [
    {
     "data": {
      "text/plain": [
       "city_development_index    0.000000\n",
       "gender                    0.238610\n",
       "relevent_experience       0.000000\n",
       "enrolled_university       0.014561\n",
       "education_level           0.024425\n",
       "experience                0.002349\n",
       "company_size              0.292156\n",
       "last_new_job              0.018788\n",
       "training_hours            0.000000\n",
       "dtype: float64"
      ]
     },
     "execution_count": 52,
     "metadata": {},
     "output_type": "execute_result"
    }
   ],
   "source": [
    "null_percentage = test.isnull().sum() / test.shape[0]\n",
    "null_percentage"
   ]
  },
  {
   "cell_type": "code",
   "execution_count": 53,
   "id": "ed4e754b",
   "metadata": {
    "execution": {
     "iopub.execute_input": "2023-12-04T09:32:10.512638Z",
     "iopub.status.busy": "2023-12-04T09:32:10.512386Z",
     "iopub.status.idle": "2023-12-04T09:32:10.521272Z",
     "shell.execute_reply": "2023-12-04T09:32:10.520683Z"
    },
    "papermill": {
     "duration": 0.033597,
     "end_time": "2023-12-04T09:32:10.522930",
     "exception": false,
     "start_time": "2023-12-04T09:32:10.489333",
     "status": "completed"
    },
    "tags": []
   },
   "outputs": [],
   "source": [
    "copy = test\n",
    "null_columns = null_percentage[null_percentage > 0].index\n",
    "for i in null_columns:\n",
    "    test[i] = test[i].fillna(copy[i].mode()[0])\n",
    "    "
   ]
  },
  {
   "cell_type": "code",
   "execution_count": 54,
   "id": "52c56bd9",
   "metadata": {
    "execution": {
     "iopub.execute_input": "2023-12-04T09:32:10.572598Z",
     "iopub.status.busy": "2023-12-04T09:32:10.571892Z",
     "iopub.status.idle": "2023-12-04T09:32:10.579196Z",
     "shell.execute_reply": "2023-12-04T09:32:10.578617Z"
    },
    "papermill": {
     "duration": 0.034198,
     "end_time": "2023-12-04T09:32:10.580860",
     "exception": false,
     "start_time": "2023-12-04T09:32:10.546662",
     "status": "completed"
    },
    "tags": []
   },
   "outputs": [],
   "source": [
    "    \n",
    "def experience(x:str)->int:\n",
    "    if type(x) == int:\n",
    "        pass\n",
    "    elif '>' in x: \n",
    "        x = 21\n",
    "    elif '<' in x:\n",
    "        x = 0\n",
    "    else:\n",
    "        x = int(x.strip())\n",
    "    return x\n",
    "\n",
    "test['experience'] = test.experience.map(experience) "
   ]
  },
  {
   "cell_type": "code",
   "execution_count": 55,
   "id": "9611de6f",
   "metadata": {
    "execution": {
     "iopub.execute_input": "2023-12-04T09:32:10.628653Z",
     "iopub.status.busy": "2023-12-04T09:32:10.627949Z",
     "iopub.status.idle": "2023-12-04T09:32:10.634819Z",
     "shell.execute_reply": "2023-12-04T09:32:10.634267Z"
    },
    "papermill": {
     "duration": 0.032508,
     "end_time": "2023-12-04T09:32:10.636443",
     "exception": false,
     "start_time": "2023-12-04T09:32:10.603935",
     "status": "completed"
    },
    "tags": []
   },
   "outputs": [],
   "source": [
    "def new_job(x:str)->int:\n",
    "    \n",
    "    if type(x) == int:\n",
    "        pass\n",
    "    elif 'n' == x[0]:\n",
    "        x = 0\n",
    "    elif '>' in x: \n",
    "        x = 5\n",
    "    else:\n",
    "        x = int(x.strip())\n",
    "    return x\n",
    "\n",
    "test['last_new_job'] = test.last_new_job.map(new_job)"
   ]
  },
  {
   "cell_type": "code",
   "execution_count": 56,
   "id": "10fc9110",
   "metadata": {
    "execution": {
     "iopub.execute_input": "2023-12-04T09:32:10.683976Z",
     "iopub.status.busy": "2023-12-04T09:32:10.683385Z",
     "iopub.status.idle": "2023-12-04T09:32:10.689856Z",
     "shell.execute_reply": "2023-12-04T09:32:10.689246Z"
    },
    "papermill": {
     "duration": 0.031986,
     "end_time": "2023-12-04T09:32:10.691503",
     "exception": false,
     "start_time": "2023-12-04T09:32:10.659517",
     "status": "completed"
    },
    "tags": []
   },
   "outputs": [],
   "source": [
    "def relavent_exp(x:str)->int:\n",
    "    \n",
    "    if type(x) == int:\n",
    "        pass\n",
    "    elif 'H' == x[0]:\n",
    "        x = 1\n",
    "    elif 'N' in x: \n",
    "        x = 0\n",
    "    else:\n",
    "        x = int(x.strip())\n",
    "    return x\n",
    "\n",
    "test['relevent_experience'] = test.relevent_experience.map(relavent_exp)\n"
   ]
  },
  {
   "cell_type": "code",
   "execution_count": 57,
   "id": "8be3029c",
   "metadata": {
    "execution": {
     "iopub.execute_input": "2023-12-04T09:32:10.739895Z",
     "iopub.status.busy": "2023-12-04T09:32:10.739271Z",
     "iopub.status.idle": "2023-12-04T09:32:10.745022Z",
     "shell.execute_reply": "2023-12-04T09:32:10.744438Z"
    },
    "papermill": {
     "duration": 0.031633,
     "end_time": "2023-12-04T09:32:10.746651",
     "exception": false,
     "start_time": "2023-12-04T09:32:10.715018",
     "status": "completed"
    },
    "tags": []
   },
   "outputs": [],
   "source": [
    "\n",
    "company_size = {\n",
    "    '<10'       : 0,\n",
    "    '10/49'     : 1,\n",
    "    '50-99'     : 2,\n",
    "    '100-500'   : 3,\n",
    "    '500-999'   : 4,\n",
    "    '1000-4999' : 5,\n",
    "    '5000-9999' : 6,\n",
    "    '10000+'    : 7\n",
    "}\n",
    "\n",
    "test['company_size'] = test.company_size.map(lambda x : company_size[x])\n"
   ]
  },
  {
   "cell_type": "code",
   "execution_count": null,
   "id": "2024484f",
   "metadata": {
    "jupyter": {
     "source_hidden": true
    },
    "papermill": {
     "duration": 0.02278,
     "end_time": "2023-12-04T09:32:10.793892",
     "exception": false,
     "start_time": "2023-12-04T09:32:10.771112",
     "status": "completed"
    },
    "tags": []
   },
   "outputs": [],
   "source": []
  },
  {
   "cell_type": "code",
   "execution_count": 58,
   "id": "fa375e5f",
   "metadata": {
    "execution": {
     "iopub.execute_input": "2023-12-04T09:32:10.840892Z",
     "iopub.status.busy": "2023-12-04T09:32:10.840370Z",
     "iopub.status.idle": "2023-12-04T09:32:10.851115Z",
     "shell.execute_reply": "2023-12-04T09:32:10.850279Z"
    },
    "papermill": {
     "duration": 0.036137,
     "end_time": "2023-12-04T09:32:10.852716",
     "exception": false,
     "start_time": "2023-12-04T09:32:10.816579",
     "status": "completed"
    },
    "tags": []
   },
   "outputs": [
    {
     "data": {
      "text/html": [
       "<div>\n",
       "<style scoped>\n",
       "    .dataframe tbody tr th:only-of-type {\n",
       "        vertical-align: middle;\n",
       "    }\n",
       "\n",
       "    .dataframe tbody tr th {\n",
       "        vertical-align: top;\n",
       "    }\n",
       "\n",
       "    .dataframe thead th {\n",
       "        text-align: right;\n",
       "    }\n",
       "</style>\n",
       "<table border=\"1\" class=\"dataframe\">\n",
       "  <thead>\n",
       "    <tr style=\"text-align: right;\">\n",
       "      <th></th>\n",
       "      <th>city_development_index</th>\n",
       "      <th>gender</th>\n",
       "      <th>relevent_experience</th>\n",
       "      <th>enrolled_university</th>\n",
       "      <th>education_level</th>\n",
       "      <th>experience</th>\n",
       "      <th>company_size</th>\n",
       "      <th>last_new_job</th>\n",
       "      <th>training_hours</th>\n",
       "    </tr>\n",
       "  </thead>\n",
       "  <tbody>\n",
       "    <tr>\n",
       "      <th>0</th>\n",
       "      <td>0.827</td>\n",
       "      <td>Male</td>\n",
       "      <td>1</td>\n",
       "      <td>Full time course</td>\n",
       "      <td>Graduate</td>\n",
       "      <td>9</td>\n",
       "      <td>0</td>\n",
       "      <td>1</td>\n",
       "      <td>21</td>\n",
       "    </tr>\n",
       "    <tr>\n",
       "      <th>1</th>\n",
       "      <td>0.920</td>\n",
       "      <td>Female</td>\n",
       "      <td>1</td>\n",
       "      <td>no_enrollment</td>\n",
       "      <td>Graduate</td>\n",
       "      <td>5</td>\n",
       "      <td>2</td>\n",
       "      <td>1</td>\n",
       "      <td>98</td>\n",
       "    </tr>\n",
       "    <tr>\n",
       "      <th>2</th>\n",
       "      <td>0.624</td>\n",
       "      <td>Male</td>\n",
       "      <td>0</td>\n",
       "      <td>no_enrollment</td>\n",
       "      <td>High School</td>\n",
       "      <td>0</td>\n",
       "      <td>2</td>\n",
       "      <td>0</td>\n",
       "      <td>15</td>\n",
       "    </tr>\n",
       "    <tr>\n",
       "      <th>3</th>\n",
       "      <td>0.827</td>\n",
       "      <td>Male</td>\n",
       "      <td>1</td>\n",
       "      <td>no_enrollment</td>\n",
       "      <td>Masters</td>\n",
       "      <td>11</td>\n",
       "      <td>1</td>\n",
       "      <td>1</td>\n",
       "      <td>39</td>\n",
       "    </tr>\n",
       "  </tbody>\n",
       "</table>\n",
       "</div>"
      ],
      "text/plain": [
       "   city_development_index  gender  relevent_experience enrolled_university  \\\n",
       "0                   0.827    Male                    1    Full time course   \n",
       "1                   0.920  Female                    1       no_enrollment   \n",
       "2                   0.624    Male                    0       no_enrollment   \n",
       "3                   0.827    Male                    1       no_enrollment   \n",
       "\n",
       "  education_level  experience  company_size  last_new_job  training_hours  \n",
       "0        Graduate           9             0             1              21  \n",
       "1        Graduate           5             2             1              98  \n",
       "2     High School           0             2             0              15  \n",
       "3         Masters          11             1             1              39  "
      ]
     },
     "execution_count": 58,
     "metadata": {},
     "output_type": "execute_result"
    }
   ],
   "source": [
    "test.head(4)"
   ]
  },
  {
   "cell_type": "code",
   "execution_count": 59,
   "id": "6aff4c2d",
   "metadata": {
    "execution": {
     "iopub.execute_input": "2023-12-04T09:32:10.902380Z",
     "iopub.status.busy": "2023-12-04T09:32:10.901824Z",
     "iopub.status.idle": "2023-12-04T09:32:10.908066Z",
     "shell.execute_reply": "2023-12-04T09:32:10.907430Z"
    },
    "papermill": {
     "duration": 0.033035,
     "end_time": "2023-12-04T09:32:10.909687",
     "exception": false,
     "start_time": "2023-12-04T09:32:10.876652",
     "status": "completed"
    },
    "tags": []
   },
   "outputs": [
    {
     "data": {
      "text/plain": [
       "city_development_index    float64\n",
       "gender                     object\n",
       "relevent_experience         int64\n",
       "enrolled_university        object\n",
       "education_level            object\n",
       "experience                  int64\n",
       "company_size                int64\n",
       "last_new_job                int64\n",
       "training_hours              int64\n",
       "dtype: object"
      ]
     },
     "execution_count": 59,
     "metadata": {},
     "output_type": "execute_result"
    }
   ],
   "source": [
    "test.dtypes"
   ]
  },
  {
   "cell_type": "code",
   "execution_count": 60,
   "id": "38241ec6",
   "metadata": {
    "execution": {
     "iopub.execute_input": "2023-12-04T09:32:10.957650Z",
     "iopub.status.busy": "2023-12-04T09:32:10.957123Z",
     "iopub.status.idle": "2023-12-04T09:32:10.989826Z",
     "shell.execute_reply": "2023-12-04T09:32:10.988602Z"
    },
    "papermill": {
     "duration": 0.05888,
     "end_time": "2023-12-04T09:32:10.991852",
     "exception": false,
     "start_time": "2023-12-04T09:32:10.932972",
     "status": "completed"
    },
    "tags": []
   },
   "outputs": [
    {
     "name": "stdout",
     "output_type": "stream",
     "text": [
      "['Female' 'Male' 'Other' 'Full time course' 'Part time course'\n",
      " 'no_enrollment']\n"
     ]
    },
    {
     "data": {
      "text/html": [
       "<div>\n",
       "<style scoped>\n",
       "    .dataframe tbody tr th:only-of-type {\n",
       "        vertical-align: middle;\n",
       "    }\n",
       "\n",
       "    .dataframe tbody tr th {\n",
       "        vertical-align: top;\n",
       "    }\n",
       "\n",
       "    .dataframe thead th {\n",
       "        text-align: right;\n",
       "    }\n",
       "</style>\n",
       "<table border=\"1\" class=\"dataframe\">\n",
       "  <thead>\n",
       "    <tr style=\"text-align: right;\">\n",
       "      <th></th>\n",
       "      <th>city_development_index</th>\n",
       "      <th>gender</th>\n",
       "      <th>relevent_experience</th>\n",
       "      <th>enrolled_university</th>\n",
       "      <th>education_level</th>\n",
       "      <th>experience</th>\n",
       "      <th>company_size</th>\n",
       "      <th>last_new_job</th>\n",
       "      <th>training_hours</th>\n",
       "      <th>target</th>\n",
       "      <th>Female</th>\n",
       "      <th>Male</th>\n",
       "      <th>Other</th>\n",
       "      <th>Full time course</th>\n",
       "      <th>Part time course</th>\n",
       "      <th>no_enrollment</th>\n",
       "    </tr>\n",
       "  </thead>\n",
       "  <tbody>\n",
       "    <tr>\n",
       "      <th>0</th>\n",
       "      <td>0.920</td>\n",
       "      <td>Male</td>\n",
       "      <td>Has relevent experience</td>\n",
       "      <td>no_enrollment</td>\n",
       "      <td>Graduate</td>\n",
       "      <td>21</td>\n",
       "      <td>2</td>\n",
       "      <td>1</td>\n",
       "      <td>36</td>\n",
       "      <td>1.0</td>\n",
       "      <td>0.0</td>\n",
       "      <td>1.0</td>\n",
       "      <td>0.0</td>\n",
       "      <td>0.0</td>\n",
       "      <td>0.0</td>\n",
       "      <td>1.0</td>\n",
       "    </tr>\n",
       "    <tr>\n",
       "      <th>1</th>\n",
       "      <td>0.776</td>\n",
       "      <td>Male</td>\n",
       "      <td>No relevent experience</td>\n",
       "      <td>no_enrollment</td>\n",
       "      <td>Graduate</td>\n",
       "      <td>15</td>\n",
       "      <td>2</td>\n",
       "      <td>5</td>\n",
       "      <td>47</td>\n",
       "      <td>0.0</td>\n",
       "      <td>0.0</td>\n",
       "      <td>1.0</td>\n",
       "      <td>0.0</td>\n",
       "      <td>0.0</td>\n",
       "      <td>0.0</td>\n",
       "      <td>1.0</td>\n",
       "    </tr>\n",
       "    <tr>\n",
       "      <th>2</th>\n",
       "      <td>0.624</td>\n",
       "      <td>Male</td>\n",
       "      <td>No relevent experience</td>\n",
       "      <td>Full time course</td>\n",
       "      <td>Graduate</td>\n",
       "      <td>5</td>\n",
       "      <td>2</td>\n",
       "      <td>0</td>\n",
       "      <td>83</td>\n",
       "      <td>0.0</td>\n",
       "      <td>0.0</td>\n",
       "      <td>1.0</td>\n",
       "      <td>0.0</td>\n",
       "      <td>1.0</td>\n",
       "      <td>0.0</td>\n",
       "      <td>0.0</td>\n",
       "    </tr>\n",
       "    <tr>\n",
       "      <th>3</th>\n",
       "      <td>0.789</td>\n",
       "      <td>Male</td>\n",
       "      <td>No relevent experience</td>\n",
       "      <td>no_enrollment</td>\n",
       "      <td>Graduate</td>\n",
       "      <td>0</td>\n",
       "      <td>2</td>\n",
       "      <td>0</td>\n",
       "      <td>52</td>\n",
       "      <td>1.0</td>\n",
       "      <td>0.0</td>\n",
       "      <td>1.0</td>\n",
       "      <td>0.0</td>\n",
       "      <td>0.0</td>\n",
       "      <td>0.0</td>\n",
       "      <td>1.0</td>\n",
       "    </tr>\n",
       "    <tr>\n",
       "      <th>4</th>\n",
       "      <td>0.767</td>\n",
       "      <td>Male</td>\n",
       "      <td>Has relevent experience</td>\n",
       "      <td>no_enrollment</td>\n",
       "      <td>Masters</td>\n",
       "      <td>21</td>\n",
       "      <td>2</td>\n",
       "      <td>4</td>\n",
       "      <td>8</td>\n",
       "      <td>0.0</td>\n",
       "      <td>0.0</td>\n",
       "      <td>1.0</td>\n",
       "      <td>0.0</td>\n",
       "      <td>0.0</td>\n",
       "      <td>0.0</td>\n",
       "      <td>1.0</td>\n",
       "    </tr>\n",
       "  </tbody>\n",
       "</table>\n",
       "</div>"
      ],
      "text/plain": [
       "   city_development_index gender      relevent_experience enrolled_university  \\\n",
       "0                   0.920   Male  Has relevent experience       no_enrollment   \n",
       "1                   0.776   Male   No relevent experience       no_enrollment   \n",
       "2                   0.624   Male   No relevent experience    Full time course   \n",
       "3                   0.789   Male   No relevent experience       no_enrollment   \n",
       "4                   0.767   Male  Has relevent experience       no_enrollment   \n",
       "\n",
       "  education_level  experience  company_size  last_new_job  training_hours  \\\n",
       "0        Graduate          21             2             1              36   \n",
       "1        Graduate          15             2             5              47   \n",
       "2        Graduate           5             2             0              83   \n",
       "3        Graduate           0             2             0              52   \n",
       "4         Masters          21             2             4               8   \n",
       "\n",
       "   target  Female  Male  Other  Full time course  Part time course  \\\n",
       "0     1.0     0.0   1.0    0.0               0.0               0.0   \n",
       "1     0.0     0.0   1.0    0.0               0.0               0.0   \n",
       "2     0.0     0.0   1.0    0.0               1.0               0.0   \n",
       "3     1.0     0.0   1.0    0.0               0.0               0.0   \n",
       "4     0.0     0.0   1.0    0.0               0.0               0.0   \n",
       "\n",
       "   no_enrollment  \n",
       "0            1.0  \n",
       "1            1.0  \n",
       "2            0.0  \n",
       "3            1.0  \n",
       "4            1.0  "
      ]
     },
     "execution_count": 60,
     "metadata": {},
     "output_type": "execute_result"
    }
   ],
   "source": [
    "ohe=OneHotEncoder()\n",
    "feature_array=ohe.fit_transform(train[[\"gender\",\"enrolled_university\"]]).toarray()\n",
    "\n",
    "feature_label=ohe.categories_\n",
    "\n",
    "\n",
    "feature_label=np.array(feature_label).ravel()\n",
    "print(feature_label)\n",
    "\n",
    "features=pd.DataFrame(feature_array, columns = feature_label)\n",
    "test1=pd.concat([train,features], axis=1)\n",
    "test1.head()\n"
   ]
  },
  {
   "cell_type": "code",
   "execution_count": 61,
   "id": "e6bc49c4",
   "metadata": {
    "execution": {
     "iopub.execute_input": "2023-12-04T09:32:11.040795Z",
     "iopub.status.busy": "2023-12-04T09:32:11.040472Z",
     "iopub.status.idle": "2023-12-04T09:32:11.067764Z",
     "shell.execute_reply": "2023-12-04T09:32:11.066956Z"
    },
    "papermill": {
     "duration": 0.054013,
     "end_time": "2023-12-04T09:32:11.069629",
     "exception": false,
     "start_time": "2023-12-04T09:32:11.015616",
     "status": "completed"
    },
    "tags": []
   },
   "outputs": [
    {
     "name": "stdout",
     "output_type": "stream",
     "text": [
      "['Has relevent experience' 'No relevent experience']\n"
     ]
    },
    {
     "data": {
      "text/html": [
       "<div>\n",
       "<style scoped>\n",
       "    .dataframe tbody tr th:only-of-type {\n",
       "        vertical-align: middle;\n",
       "    }\n",
       "\n",
       "    .dataframe tbody tr th {\n",
       "        vertical-align: top;\n",
       "    }\n",
       "\n",
       "    .dataframe thead th {\n",
       "        text-align: right;\n",
       "    }\n",
       "</style>\n",
       "<table border=\"1\" class=\"dataframe\">\n",
       "  <thead>\n",
       "    <tr style=\"text-align: right;\">\n",
       "      <th></th>\n",
       "      <th>city_development_index</th>\n",
       "      <th>gender</th>\n",
       "      <th>relevent_experience</th>\n",
       "      <th>enrolled_university</th>\n",
       "      <th>education_level</th>\n",
       "      <th>experience</th>\n",
       "      <th>company_size</th>\n",
       "      <th>last_new_job</th>\n",
       "      <th>training_hours</th>\n",
       "      <th>target</th>\n",
       "      <th>Female</th>\n",
       "      <th>Male</th>\n",
       "      <th>Other</th>\n",
       "      <th>Full time course</th>\n",
       "      <th>Part time course</th>\n",
       "      <th>no_enrollment</th>\n",
       "      <th>Has relevent experience</th>\n",
       "      <th>No relevent experience</th>\n",
       "    </tr>\n",
       "  </thead>\n",
       "  <tbody>\n",
       "    <tr>\n",
       "      <th>0</th>\n",
       "      <td>0.920</td>\n",
       "      <td>Male</td>\n",
       "      <td>Has relevent experience</td>\n",
       "      <td>no_enrollment</td>\n",
       "      <td>Graduate</td>\n",
       "      <td>21</td>\n",
       "      <td>2</td>\n",
       "      <td>1</td>\n",
       "      <td>36</td>\n",
       "      <td>1.0</td>\n",
       "      <td>0.0</td>\n",
       "      <td>1.0</td>\n",
       "      <td>0.0</td>\n",
       "      <td>0.0</td>\n",
       "      <td>0.0</td>\n",
       "      <td>1.0</td>\n",
       "      <td>1.0</td>\n",
       "      <td>0.0</td>\n",
       "    </tr>\n",
       "    <tr>\n",
       "      <th>1</th>\n",
       "      <td>0.776</td>\n",
       "      <td>Male</td>\n",
       "      <td>No relevent experience</td>\n",
       "      <td>no_enrollment</td>\n",
       "      <td>Graduate</td>\n",
       "      <td>15</td>\n",
       "      <td>2</td>\n",
       "      <td>5</td>\n",
       "      <td>47</td>\n",
       "      <td>0.0</td>\n",
       "      <td>0.0</td>\n",
       "      <td>1.0</td>\n",
       "      <td>0.0</td>\n",
       "      <td>0.0</td>\n",
       "      <td>0.0</td>\n",
       "      <td>1.0</td>\n",
       "      <td>0.0</td>\n",
       "      <td>1.0</td>\n",
       "    </tr>\n",
       "    <tr>\n",
       "      <th>2</th>\n",
       "      <td>0.624</td>\n",
       "      <td>Male</td>\n",
       "      <td>No relevent experience</td>\n",
       "      <td>Full time course</td>\n",
       "      <td>Graduate</td>\n",
       "      <td>5</td>\n",
       "      <td>2</td>\n",
       "      <td>0</td>\n",
       "      <td>83</td>\n",
       "      <td>0.0</td>\n",
       "      <td>0.0</td>\n",
       "      <td>1.0</td>\n",
       "      <td>0.0</td>\n",
       "      <td>1.0</td>\n",
       "      <td>0.0</td>\n",
       "      <td>0.0</td>\n",
       "      <td>0.0</td>\n",
       "      <td>1.0</td>\n",
       "    </tr>\n",
       "    <tr>\n",
       "      <th>3</th>\n",
       "      <td>0.789</td>\n",
       "      <td>Male</td>\n",
       "      <td>No relevent experience</td>\n",
       "      <td>no_enrollment</td>\n",
       "      <td>Graduate</td>\n",
       "      <td>0</td>\n",
       "      <td>2</td>\n",
       "      <td>0</td>\n",
       "      <td>52</td>\n",
       "      <td>1.0</td>\n",
       "      <td>0.0</td>\n",
       "      <td>1.0</td>\n",
       "      <td>0.0</td>\n",
       "      <td>0.0</td>\n",
       "      <td>0.0</td>\n",
       "      <td>1.0</td>\n",
       "      <td>0.0</td>\n",
       "      <td>1.0</td>\n",
       "    </tr>\n",
       "    <tr>\n",
       "      <th>4</th>\n",
       "      <td>0.767</td>\n",
       "      <td>Male</td>\n",
       "      <td>Has relevent experience</td>\n",
       "      <td>no_enrollment</td>\n",
       "      <td>Masters</td>\n",
       "      <td>21</td>\n",
       "      <td>2</td>\n",
       "      <td>4</td>\n",
       "      <td>8</td>\n",
       "      <td>0.0</td>\n",
       "      <td>0.0</td>\n",
       "      <td>1.0</td>\n",
       "      <td>0.0</td>\n",
       "      <td>0.0</td>\n",
       "      <td>0.0</td>\n",
       "      <td>1.0</td>\n",
       "      <td>1.0</td>\n",
       "      <td>0.0</td>\n",
       "    </tr>\n",
       "  </tbody>\n",
       "</table>\n",
       "</div>"
      ],
      "text/plain": [
       "   city_development_index gender      relevent_experience enrolled_university  \\\n",
       "0                   0.920   Male  Has relevent experience       no_enrollment   \n",
       "1                   0.776   Male   No relevent experience       no_enrollment   \n",
       "2                   0.624   Male   No relevent experience    Full time course   \n",
       "3                   0.789   Male   No relevent experience       no_enrollment   \n",
       "4                   0.767   Male  Has relevent experience       no_enrollment   \n",
       "\n",
       "  education_level  experience  company_size  last_new_job  training_hours  \\\n",
       "0        Graduate          21             2             1              36   \n",
       "1        Graduate          15             2             5              47   \n",
       "2        Graduate           5             2             0              83   \n",
       "3        Graduate           0             2             0              52   \n",
       "4         Masters          21             2             4               8   \n",
       "\n",
       "   target  Female  Male  Other  Full time course  Part time course  \\\n",
       "0     1.0     0.0   1.0    0.0               0.0               0.0   \n",
       "1     0.0     0.0   1.0    0.0               0.0               0.0   \n",
       "2     0.0     0.0   1.0    0.0               1.0               0.0   \n",
       "3     1.0     0.0   1.0    0.0               0.0               0.0   \n",
       "4     0.0     0.0   1.0    0.0               0.0               0.0   \n",
       "\n",
       "   no_enrollment  Has relevent experience  No relevent experience  \n",
       "0            1.0                      1.0                     0.0  \n",
       "1            1.0                      0.0                     1.0  \n",
       "2            0.0                      0.0                     1.0  \n",
       "3            1.0                      0.0                     1.0  \n",
       "4            1.0                      1.0                     0.0  "
      ]
     },
     "execution_count": 61,
     "metadata": {},
     "output_type": "execute_result"
    }
   ],
   "source": [
    "ohe=OneHotEncoder()\n",
    "feature_array=ohe.fit_transform(train[[\"relevent_experience\"]]).toarray()\n",
    "\n",
    "feature_label=ohe.categories_\n",
    "\n",
    "\n",
    "feature_label=np.array(feature_label).ravel()\n",
    "print(feature_label)\n",
    "\n",
    "features=pd.DataFrame(feature_array, columns = feature_label)\n",
    "final_test=pd.concat([train1,features], axis=1)\n",
    "final_test.head()"
   ]
  },
  {
   "cell_type": "markdown",
   "id": "b98e72fb",
   "metadata": {
    "papermill": {
     "duration": 0.023305,
     "end_time": "2023-12-04T09:32:11.117455",
     "exception": false,
     "start_time": "2023-12-04T09:32:11.094150",
     "status": "completed"
    },
    "tags": []
   },
   "source": [
    "# Logistic Regression "
   ]
  },
  {
   "cell_type": "code",
   "execution_count": 62,
   "id": "3a0aed4e",
   "metadata": {
    "execution": {
     "iopub.execute_input": "2023-12-04T09:32:11.166193Z",
     "iopub.status.busy": "2023-12-04T09:32:11.165698Z",
     "iopub.status.idle": "2023-12-04T09:32:11.738203Z",
     "shell.execute_reply": "2023-12-04T09:32:11.737541Z"
    },
    "papermill": {
     "duration": 0.599074,
     "end_time": "2023-12-04T09:32:11.740252",
     "exception": false,
     "start_time": "2023-12-04T09:32:11.141178",
     "status": "completed"
    },
    "tags": []
   },
   "outputs": [
    {
     "data": {
      "image/png": "[encoded data removed]",
      "text/plain": [
       "<Figure size 1000x700 with 2 Axes>"
      ]
     },
     "metadata": {},
     "output_type": "display_data"
    }
   ],
   "source": [
    "Selected_features = [ 'experience', 'company_size','Female','Male','Other','Full time course','Part time course','no_enrollment',\n",
    "                       'Has relevent experience','No relevent experience' ,'last_new_job','training_hours']\n",
    "X1 = final_train[Selected_features]\n",
    "\n",
    "plt.subplots(figsize=(10, 7))\n",
    "sns.heatmap(X1.corr(), annot=True, cmap=\"RdYlGn\")\n",
    "plt.show()"
   ]
  },
  {
   "cell_type": "markdown",
   "id": "2e4f340a",
   "metadata": {
    "papermill": {
     "duration": 0.025431,
     "end_time": "2023-12-04T09:32:11.791470",
     "exception": false,
     "start_time": "2023-12-04T09:32:11.766039",
     "status": "completed"
    },
    "tags": []
   },
   "source": [
    "# MODEL"
   ]
  },
  {
   "cell_type": "code",
   "execution_count": 63,
   "id": "25baf4ca",
   "metadata": {
    "execution": {
     "iopub.execute_input": "2023-12-04T09:32:11.844051Z",
     "iopub.status.busy": "2023-12-04T09:32:11.843526Z",
     "iopub.status.idle": "2023-12-04T09:32:12.132901Z",
     "shell.execute_reply": "2023-12-04T09:32:12.132244Z"
    },
    "papermill": {
     "duration": 0.317854,
     "end_time": "2023-12-04T09:32:12.134977",
     "exception": false,
     "start_time": "2023-12-04T09:32:11.817123",
     "status": "completed"
    },
    "tags": []
   },
   "outputs": [
    {
     "name": "stdout",
     "output_type": "stream",
     "text": [
      "Train/Test split results:\n",
      "LogisticRegression accuracy is 0.748\n",
      "LogisticRegression log_loss is 0.541\n",
      "LogisticRegression auc is 0.639\n"
     ]
    }
   ],
   "source": [
    "from sklearn.model_selection import train_test_split, cross_val_score\n",
    "from sklearn.metrics import accuracy_score, classification_report, precision_score, recall_score \n",
    "from sklearn.metrics import confusion_matrix, precision_recall_curve, roc_curve, auc, log_loss\n",
    "from sklearn.linear_model import LogisticRegression\n",
    "\n",
    "cols = ['experience', 'company_size','Female','Male','Other','Full time course','Part time course','no_enrollment',\n",
    "        'Has relevent experience','No relevent experience' ,'last_new_job','training_hours'] \n",
    "X = final_train[cols]\n",
    "y = final_train['target']\n",
    "\n",
    "# create X (features) and y (response)\n",
    "#X = final_train[Selected_features]\n",
    "#y = final_train['Survived']\n",
    "\n",
    "# use train/test split with different random_state values\n",
    "# we can change the random_state values that changes the accuracy scores\n",
    "# the scores change a lot, this is why testing scores is a high-variance estimate\n",
    "X_train, X_test, y_train, y_test = train_test_split(X, y, test_size=0.2, random_state=2)\n",
    "\n",
    "# check classification scores of logistic regression\n",
    "logreg = LogisticRegression()\n",
    "logreg.fit(X_train, y_train)\n",
    "\n",
    "y_pred = logreg.predict(X_test)\n",
    "\n",
    "y_pred_proba = logreg.predict_proba(X_test)[:, 1]\n",
    "\n",
    "[fpr, tpr, thr] = roc_curve(y_test, y_pred_proba)\n",
    "\n",
    "print('Train/Test split results:')\n",
    "print(logreg.__class__.__name__+\" accuracy is %2.3f\" % accuracy_score(y_test, y_pred))\n",
    "print(logreg.__class__.__name__+\" log_loss is %2.3f\" % log_loss(y_test, y_pred_proba))\n",
    "print(logreg.__class__.__name__+\" auc is %2.3f\" % auc(fpr, tpr))\n",
    "\n",
    "\n"
   ]
  },
  {
   "cell_type": "markdown",
   "id": "6e081e14",
   "metadata": {
    "papermill": {
     "duration": 0.034597,
     "end_time": "2023-12-04T09:32:12.205121",
     "exception": false,
     "start_time": "2023-12-04T09:32:12.170524",
     "status": "completed"
    },
    "tags": []
   },
   "source": [
    "*  **Model evaluation based on simple train/test split using train_test_split() function**\n"
   ]
  },
  {
   "cell_type": "code",
   "execution_count": 64,
   "id": "45984bfe",
   "metadata": {
    "execution": {
     "iopub.execute_input": "2023-12-04T09:32:12.268619Z",
     "iopub.status.busy": "2023-12-04T09:32:12.268302Z",
     "iopub.status.idle": "2023-12-04T09:32:12.284358Z",
     "shell.execute_reply": "2023-12-04T09:32:12.283336Z"
    },
    "papermill": {
     "duration": 0.04582,
     "end_time": "2023-12-04T09:32:12.285887",
     "exception": false,
     "start_time": "2023-12-04T09:32:12.240067",
     "status": "completed"
    },
    "tags": []
   },
   "outputs": [
    {
     "name": "stdout",
     "output_type": "stream",
     "text": [
      "              precision    recall  f1-score   support\n",
      "\n",
      "         0.0       0.75      1.00      0.86      2868\n",
      "         1.0       0.00      0.00      0.00       964\n",
      "\n",
      "    accuracy                           0.75      3832\n",
      "   macro avg       0.37      0.50      0.43      3832\n",
      "weighted avg       0.56      0.75      0.64      3832\n",
      "\n"
     ]
    }
   ],
   "source": [
    "from sklearn.metrics import classification_report\n",
    "print(classification_report(y_test,y_pred))"
   ]
  },
  {
   "cell_type": "code",
   "execution_count": 65,
   "id": "a73a6658",
   "metadata": {
    "execution": {
     "iopub.execute_input": "2023-12-04T09:32:12.341764Z",
     "iopub.status.busy": "2023-12-04T09:32:12.340908Z",
     "iopub.status.idle": "2023-12-04T09:32:12.667515Z",
     "shell.execute_reply": "2023-12-04T09:32:12.666719Z"
    },
    "papermill": {
     "duration": 0.357554,
     "end_time": "2023-12-04T09:32:12.669165",
     "exception": false,
     "start_time": "2023-12-04T09:32:12.311611",
     "status": "completed"
    },
    "tags": []
   },
   "outputs": [
    {
     "name": "stdout",
     "output_type": "stream",
     "text": [
      "Train/Test split results:\n",
      "LogisticRegression accuracy is 0.748\n",
      "LogisticRegression log_loss is 0.541\n",
      "LogisticRegression auc is 0.639\n"
     ]
    },
    {
     "data": {
      "image/png": "[encoded data removed]",
      "text/plain": [
       "<Figure size 640x480 with 1 Axes>"
      ]
     },
     "metadata": {},
     "output_type": "display_data"
    },
    {
     "name": "stdout",
     "output_type": "stream",
     "text": [
      "Using a threshold of 0.141 guarantees a sensitivity of 0.950 and a specificity of 0.120, i.e. a false positive rate of 88.01%.\n"
     ]
    }
   ],
   "source": [
    "from sklearn.model_selection import train_test_split, cross_val_score\n",
    "from sklearn.metrics import accuracy_score, classification_report, precision_score, recall_score \n",
    "from sklearn.metrics import confusion_matrix, precision_recall_curve, roc_curve, auc, log_loss\n",
    "\n",
    "cols = ['experience', 'company_size','Female','Male','Other','Full time course','Part time course','no_enrollment',\n",
    "        'Has relevent experience','No relevent experience' ,'last_new_job','training_hours']\n",
    "X = final_train[cols]\n",
    "y = final_train['target']\n",
    "# Build a logreg and compute the feature importances\n",
    "model = LogisticRegression() \n",
    "\n",
    "# use train/test split with different random_state values\n",
    "# we can change the random_state values that changes the accuracy scores\n",
    "# the scores change a lot, this is why testing scores is a high-variance estimate\n",
    "X_train, X_test, y_train, y_test = train_test_split(X, y, test_size=0.2, random_state=2)\n",
    "\n",
    "# check classification scores of logistic regression\n",
    "logreg = LogisticRegression()\n",
    "logreg.fit(X_train, y_train)\n",
    "y_pred = logreg.predict(X_test)\n",
    "y_pred_proba = logreg.predict_proba(X_test)[:, 1]\n",
    "[fpr, tpr, thr] = roc_curve(y_test, y_pred_proba)\n",
    "print('Train/Test split results:')\n",
    "print(logreg.__class__.__name__+\" accuracy is %2.3f\" % accuracy_score(y_test, y_pred))\n",
    "print(logreg.__class__.__name__+\" log_loss is %2.3f\" % log_loss(y_test, y_pred_proba))\n",
    "print(logreg.__class__.__name__+\" auc is %2.3f\" % auc(fpr, tpr))\n",
    "\n",
    "idx = np.min(np.where(tpr > 0.95)) # index of the first threshold for which the sensibility > 0.95\n",
    "\n",
    "plt.figure()\n",
    "plt.plot(fpr, tpr, color='coral', label='ROC curve (area = %0.3f)' % auc(fpr, tpr))\n",
    "plt.plot([0, 1], [0, 1], 'k--')\n",
    "plt.plot([0,fpr[idx]], [tpr[idx],tpr[idx]], 'k--', color='blue')\n",
    "plt.plot([fpr[idx],fpr[idx]], [0,tpr[idx]], 'k--', color='blue')\n",
    "plt.xlim([0.0, 1.0])\n",
    "plt.ylim([0.0, 1.05])\n",
    "plt.xlabel('False Positive Rate (1 - specificity)', fontsize=14)\n",
    "plt.ylabel('True Positive Rate (recall)', fontsize=14)\n",
    "plt.title('Receiver operating characteristic (ROC) curve')\n",
    "plt.legend(loc=\"lower right\")\n",
    "plt.show()\n",
    "\n",
    "print(\"Using a threshold of %.3f \" % thr[idx] + \"guarantees a sensitivity of %.3f \" % tpr[idx] +  \n",
    "      \"and a specificity of %.3f\" % (1-fpr[idx]) + \n",
    "      \", i.e. a false positive rate of %.2f%%.\" % (np.array(fpr[idx])*100))"
   ]
  },
  {
   "cell_type": "markdown",
   "id": "d3d85a9b",
   "metadata": {
    "papermill": {
     "duration": 0.027367,
     "end_time": "2023-12-04T09:32:12.723113",
     "exception": false,
     "start_time": "2023-12-04T09:32:12.695746",
     "status": "completed"
    },
    "tags": []
   },
   "source": [
    "* **Model evaluation based on K-fold cross-validation using cross_val_score() function**"
   ]
  },
  {
   "cell_type": "code",
   "execution_count": 66,
   "id": "525bd829",
   "metadata": {
    "execution": {
     "iopub.execute_input": "2023-12-04T09:32:12.777451Z",
     "iopub.status.busy": "2023-12-04T09:32:12.777104Z",
     "iopub.status.idle": "2023-12-04T09:32:16.181124Z",
     "shell.execute_reply": "2023-12-04T09:32:16.180041Z"
    },
    "papermill": {
     "duration": 3.433324,
     "end_time": "2023-12-04T09:32:16.182972",
     "exception": false,
     "start_time": "2023-12-04T09:32:12.749648",
     "status": "completed"
    },
    "tags": []
   },
   "outputs": [
    {
     "name": "stdout",
     "output_type": "stream",
     "text": [
      "K-fold cross-validation results:\n",
      "LogisticRegression average accuracy is 0.750\n",
      "LogisticRegression average log_loss is 0.539\n",
      "LogisticRegression average auc is 0.639\n"
     ]
    }
   ],
   "source": [
    "# 10-fold cross-validation logistic regression\n",
    "logreg = LogisticRegression()\n",
    "# Use cross_val_score function\n",
    "# We are passing the entirety of X and y, not X_train or y_train, it takes care of splitting the data\n",
    "# cv=10 for 10 folds\n",
    "# scoring = {'accuracy', 'neg_log_loss', 'roc_auc'} for evaluation metric - althought they are many\n",
    "scores_accuracy = cross_val_score(logreg, X, y, cv=10, scoring='accuracy')\n",
    "scores_log_loss = cross_val_score(logreg, X, y, cv=10, scoring='neg_log_loss')\n",
    "scores_auc = cross_val_score(logreg, X, y, cv=10, scoring='roc_auc')\n",
    "print('K-fold cross-validation results:')\n",
    "print(logreg.__class__.__name__+\" average accuracy is %2.3f\" % scores_accuracy.mean())\n",
    "print(logreg.__class__.__name__+\" average log_loss is %2.3f\" % -scores_log_loss.mean())\n",
    "print(logreg.__class__.__name__+\" average auc is %2.3f\" % scores_auc.mean())\n"
   ]
  }
 ],
 "metadata": {
  "kaggle": {
   "accelerator": "none",
   "dataSources": [
    {
     "datasetId": 1019790,
     "sourceId": 1719283,
     "sourceType": "datasetVersion"
    }
   ],
   "dockerImageVersionId": 30587,
   "isGpuEnabled": false,
   "isInternetEnabled": false,
   "language": "python",
   "sourceType": "notebook"
  },
  "kernelspec": {
   "display_name": "Python 3",
   "language": "python",
   "name": "python3"
  },
  "language_info": {
   "codemirror_mode": {
    "name": "ipython",
    "version": 3
   },
   "file_extension": ".py",
   "mimetype": "text/x-python",
   "name": "python",
   "nbconvert_exporter": "python",
   "pygments_lexer": "ipython3",
   "version": "3.10.12"
  },
  "papermill": {
   "default_parameters": {},
   "duration": 17.038504,
   "end_time": "2023-12-04T09:32:16.752380",
   "environment_variables": {},
   "exception": null,
   "input_path": "__notebook__.ipynb",
   "output_path": "__notebook__.ipynb",
   "parameters": {},
   "start_time": "2023-12-04T09:31:59.713876",
   "version": "2.4.0"
  }
 },
 "nbformat": 4,
 "nbformat_minor": 5
}
